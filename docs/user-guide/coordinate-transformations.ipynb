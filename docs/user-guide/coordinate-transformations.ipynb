{
 "cells": [
  {
   "cell_type": "markdown",
   "id": "dc9e42eb-6f87-4857-816d-6200f21190ef",
   "metadata": {
    "tags": []
   },
   "source": [
    "# Coordinate Transformations\n",
    "\n",
    "## About coordinate transformations\n",
    "\n",
    "There are a number of coordinate transformations specific to neutron-scattering such as conversion from time-of-flight to wavelength.\n",
    "Such coordinate transformations are also referred to as \"unit conversion\", but here we avoid this terminology, to avoid confusion with [conversion of array units using `sc.to_unit`](https://scipp.github.io/generated/functions/scipp.to_unit.html#scipp.to_unit).\n",
    "\n",
    "Scipp provides [coordinate transformations using `sc.transform_coords`](https://scipp.github.io/user-guide/coordinate-transformations.html).\n",
    "Scippneutron defines concrete transformations for time-of-flight neutron scattering, as well als building blocks for customizing transformations.\n",
    "Both are discussed in the following.\n",
    "\n",
    "## Built-in transformations\n",
    "\n",
    "Built-in transformations are used by the `convert` function, which is provided for convenience.\n",
    "Here we describe the more direct approach.\n",
    "The transformations typically require two components:\n",
    "\n",
    "1. A definition of the beamline geometry which defines have, e.g., scattering angles are to be computed from positions of beamline components, such as sample and detector positions.\n",
    "2. A definition of the scattering dynamics, e.g., how wavelength can be computed from time-of-flight for an elastic scattering process.\n",
    "\n",
    "Pre-defined standard components can be imported from `scippneutron.tof.conversions`:"
   ]
  },
  {
   "cell_type": "code",
   "execution_count": null,
   "id": "e4b50869-40a9-49af-8783-b85ce2e287a3",
   "metadata": {},
   "outputs": [],
   "source": [
    "import scipp as sc\n",
    "from scippneutron.tof.conversions import beamline, elastic"
   ]
  },
  {
   "cell_type": "markdown",
   "id": "e61f1788-aa70-4edd-a0d8-190063db2ed8",
   "metadata": {},
   "source": [
    "Here `beamline` defines a \"simple\" time-of-flight beamline with source-, sample-, and detector positions:"
   ]
  },
  {
   "cell_type": "code",
   "execution_count": null,
   "id": "2306a08b-6c63-4ee6-9c15-80071d51e0fc",
   "metadata": {},
   "outputs": [],
   "source": [
    "sc.show_graph(beamline(scatter=True))"
   ]
  },
  {
   "cell_type": "markdown",
   "id": "c1ca18cc-af62-4a27-9d76-7b5463d35fb1",
   "metadata": {},
   "source": [
    "For a given input coordinate, say, `'tof'`, `elastic` defined how, e.g., `wavlength` or `dspacing` may be computed:"
   ]
  },
  {
   "cell_type": "code",
   "execution_count": null,
   "id": "93f54686-0f07-4d40-8d2b-5c5907562436",
   "metadata": {},
   "outputs": [],
   "source": [
    "sc.show_graph(elastic('tof'))"
   ]
  },
  {
   "cell_type": "markdown",
   "id": "5d092dd5-f6da-4e31-8f12-55fb2417ad84",
   "metadata": {},
   "source": [
    "The two transformation graphs depicted above can now be used to transform raw data to, e.g., `wavelength`:"
   ]
  },
  {
   "cell_type": "code",
   "execution_count": null,
   "id": "31612d83-d293-434b-9b9c-f2506d41ab5d",
   "metadata": {},
   "outputs": [],
   "source": [
    "import scippneutron as scn\n",
    "\n",
    "da = scn.load(scn.data.get_path('PG3_4844_event.nxs'))\n",
    "da.transform_coords('wavelength',\n",
    "                    graph={\n",
    "                        **beamline(scatter=True),\n",
    "                        **elastic('tof')\n",
    "                    })"
   ]
  },
  {
   "cell_type": "markdown",
   "id": "37779949-1a6a-4087-a53b-c97b151e27c4",
   "metadata": {},
   "source": [
    "Note how `transform_coords` automatically handles event data.\n",
    "\n",
    "We may use `beamline(scatter=False)` for conversions without scattering process, e.g., for processing neutron monitors, or for imaging beamlines."
   ]
  },
  {
   "cell_type": "markdown",
   "id": "87cc7ba5-fe74-4f60-af43-2254014d6c59",
   "metadata": {
    "tags": []
   },
   "source": [
    "## Customizing transformations\n",
    "\n",
    "Many neutron beamlines are more complex than what is assumed by the simple built-in transformation graphs.\n",
    "The coordinate transformation mechanism is completely generic and is customizable.\n",
    "We provide examples in the following."
   ]
  },
  {
   "cell_type": "markdown",
   "id": "fed62e39-b3e1-499b-94bc-8cc35c3b98f4",
   "metadata": {},
   "source": [
    "### Diffraction calibration"
   ]
  },
  {
   "cell_type": "code",
   "execution_count": null,
   "id": "fb385efa-f8ef-4092-9329-5723b27eb57e",
   "metadata": {},
   "outputs": [],
   "source": [
    "def dspacing(tof, tzero, difc):\n",
    "    difc = sc.reciprocal(difc)\n",
    "    return difc * (tof - tzero)\n",
    "\n",
    "\n",
    "graph = {'dspacing': dspacing}\n",
    "sc.show_graph(graph)"
   ]
  },
  {
   "cell_type": "code",
   "execution_count": null,
   "id": "f60ff655-52fd-4939-87f5-e4e5c65c9908",
   "metadata": {},
   "outputs": [],
   "source": [
    "from mantid.simpleapi import Load, LoadDiffCal\n",
    "\n",
    "#ws = LoadDiffCal('/home/simon/data/PG3_FERNS_d4832_2011_08_24.cal', InstrumentName='PG3', WorkspaceName='ws')\n",
    "#ws = LoadDiffCal('/home/simon/data/TrainingCourseData/PG3_golden.cal', InstrumentName='PG3', WorkspaceName='ws')\n",
    "ws = Load('PG3_4844_event.nxs')\n",
    "ws = LoadDiffCal('/home/simon/data/TrainingCourseData/PG3_golden.cal', InputWorkspace='ws', WorkspaceName='ws')"
   ]
  },
  {
   "cell_type": "code",
   "execution_count": null,
   "id": "bc7821fe-a8cf-423c-8e62-bd81bb1b6e9d",
   "metadata": {},
   "outputs": [],
   "source": [
    "cal = scn.from_mantid(ws[0])\n",
    "tzero = cal['tzero'].data.copy()\n",
    "tzero = tzero.rename_dims({'row':'spectrum'})\n",
    "tzero.unit = 'us'\n",
    "difc = cal['difc'].data.copy()\n",
    "difc = difc.rename_dims({'row':'spectrum'})\n",
    "difc.unit = 'us/angstrom'"
   ]
  },
  {
   "cell_type": "code",
   "execution_count": null,
   "id": "31181f2e-39d7-47e2-8400-0447e5516054",
   "metadata": {},
   "outputs": [],
   "source": [
    "import scippneutron as scn\n",
    "\n",
    "da = scn.load(scn.data.get_path('PG3_4844_event.nxs'))\n",
    "da.coords['tzero'] = tzero\n",
    "da.coords['difc'] = difc\n",
    "da.transform_coords('dspacing', graph=graph)"
   ]
  },
  {
   "cell_type": "markdown",
   "id": "11a09be3-4e00-46f4-ad74-dacf21a39b74",
   "metadata": {
    "tags": []
   },
   "source": [
    "### Gravity correction\n",
    "\n",
    "For techniques such as SANS probing low Q regions the basic conversion approach may not be sufficient.\n",
    "A computation of $2\\theta$ may need to take into account gravity since the gravity drop after scattering is not negligible.\n",
    "This can be achieved by replacing the function for computation of `two_theta` in built in graph.\n",
    "We define a custom `two_theta` function:"
   ]
  },
  {
   "cell_type": "code",
   "execution_count": null,
   "id": "c4f64bf2-72e5-4f4b-a0dd-e239924af1c8",
   "metadata": {
    "scrolled": true,
    "tags": []
   },
   "outputs": [],
   "source": [
    "from scipp.constants import m_n, h, g\n",
    "\n",
    "\n",
    "def two_theta(gravity, wavelength, incident_beam, scattered_beam):\n",
    "    L2 = sc.norm(scattered_beam)\n",
    "    # Arbitrary internal convention: beam=z, gravity=y\n",
    "    y = sc.dot(scattered_beam, gravity) / sc.norm(gravity)\n",
    "    n = sc.cross(incident_beam, gravity)\n",
    "    n /= sc.norm(n)\n",
    "    x = sc.dot(scattered_beam, n)\n",
    "    wavelength = sc.to_unit(wavelength, 'm', copy=False)\n",
    "    drop = g * m_n**2 / (2 * h**2) * wavelength**2 * L2**2\n",
    "    return sc.asin(sc.sqrt(x**2 + (y + drop)**2) / L2)"
   ]
  },
  {
   "cell_type": "markdown",
   "id": "b30dd7f6-c3a3-443b-a75a-bd163e12ee98",
   "metadata": {},
   "source": [
    "This can be used to setup a modified graph for the coordinate transformation:"
   ]
  },
  {
   "cell_type": "code",
   "execution_count": null,
   "id": "89432215-81d0-4316-aa6c-d801a6005f18",
   "metadata": {},
   "outputs": [],
   "source": [
    "from scippneutron.tof.conversions import beamline, elastic\n",
    "\n",
    "q_with_gravity = {**beamline(scatter=True), **elastic('tof')}\n",
    "q_with_gravity['two_theta'] = two_theta"
   ]
  },
  {
   "cell_type": "markdown",
   "id": "a1ea05c6-a74c-4bf3-a239-4ff91fcecc8b",
   "metadata": {},
   "source": [
    "The result is as follows:"
   ]
  },
  {
   "cell_type": "code",
   "execution_count": null,
   "id": "7edea9c0-cd29-4d5d-b169-ef3d8ddf910f",
   "metadata": {},
   "outputs": [],
   "source": [
    "del q_with_gravity['energy']  # not necessary, clarifies conversion graph\n",
    "del q_with_gravity['dspacing']  # not necessary, clarifies conversion graph\n",
    "sc.show_graph(q_with_gravity, simplified=True)"
   ]
  },
  {
   "cell_type": "markdown",
   "id": "beb36a21-9b93-4c42-aebc-6eda38597714",
   "metadata": {},
   "source": [
    "We can use this to convert SANS data to $Q$.\n",
    "Our custom transformation graph requires a `gravity` input coordinate, so we define one.\n",
    "In this case (LARMOR beamline) \"up\" is along the `y` axis:"
   ]
  },
  {
   "cell_type": "code",
   "execution_count": null,
   "id": "7d87cce3-8542-4635-846a-8e5409d89d70",
   "metadata": {},
   "outputs": [],
   "source": [
    "da = scn.data.tutorial_dense_data()\n",
    "# Convert to bin centers so we can later bin into Q bins\n",
    "da.coords['tof'] = 0.5 * (da.coords['tof']['tof', :-1] +\n",
    "                          da.coords['tof']['tof', 1:])\n",
    "da.coords['gravity'] = sc.vector(unit='m/s**2', value=[0, -9.81, 0])\n",
    "da_gravity = da.transform_coords('Q', graph=q_with_gravity)\n",
    "da_gravity"
   ]
  },
  {
   "cell_type": "markdown",
   "id": "bd31e9d6-7438-4017-afb2-264d5c67f702",
   "metadata": {},
   "source": [
    "As a finaly step we may then bin our data into $Q$ bins:"
   ]
  },
  {
   "cell_type": "code",
   "execution_count": null,
   "id": "637aeaa0-7900-4389-896c-8b12e5ac9ee9",
   "metadata": {},
   "outputs": [],
   "source": [
    "q_bins = sc.linspace(dim='Q', unit='1/angstrom', start=0.0, stop=15.0, num=100)\n",
    "da_gravity = sc.bin(da_gravity.flatten(to='Q'), edges=[q_bins]).bins.sum()\n",
    "da_gravity.plot(norm='log')"
   ]
  },
  {
   "cell_type": "markdown",
   "id": "e97a7421-9ab3-44aa-bf4f-003aa84baf24",
   "metadata": {
    "tags": []
   },
   "source": [
    "### 2-D Rietveld"
   ]
  },
  {
   "cell_type": "code",
   "execution_count": null,
   "id": "aed7624e-09fb-47ff-87ab-e3c7a3339bf5",
   "metadata": {},
   "outputs": [],
   "source": [
    "def dspacing_perpendicular(wavelength, two_theta):\n",
    "    return sc.sqrt(wavelength * wavelength - 2 * sc.Unit('angstrom*angstrom') *\n",
    "                   sc.log(sc.cos(0.5 * two_theta)))"
   ]
  },
  {
   "cell_type": "code",
   "execution_count": null,
   "id": "f1c6494c-11ec-4aad-8b96-39c5e2c8ae2c",
   "metadata": {},
   "outputs": [],
   "source": [
    "d_perp = '$d_\\perp$'\n",
    "from scippneutron.tof.conversions import beamline, elastic\n",
    "\n",
    "graph = {**beamline(scatter=True), **elastic('tof'), **beamline(scatter=True)}\n",
    "graph['d'] = 'dspacing'\n",
    "graph[d_perp] = dspacing_perpendicular\n",
    "#sc.show_graph(graph)"
   ]
  },
  {
   "cell_type": "code",
   "execution_count": null,
   "id": "13487372-4453-4c4f-909b-64688c3255f8",
   "metadata": {},
   "outputs": [],
   "source": [
    "da2 = da.transform_coords(['d', d_perp], graph=graph)\n",
    "\n",
    "sc.bin(da2.events,\n",
    "       edges=[\n",
    "           sc.linspace(dim='d', unit='angstrom', start=0.0, stop=2.0, num=10),\n",
    "           sc.linspace(dim=d_perp, unit='angstrom', start=0.0, stop=2.0, num=10)\n",
    "       ]).plot()\n",
    "#sc.bin(da2, edges=[d, d_perp], erase=['spectrum', 'tof']).plot()"
   ]
  }
 ],
 "metadata": {
  "kernelspec": {
   "display_name": "Python 3 (ipykernel)",
   "language": "python",
   "name": "python3"
  },
  "language_info": {
   "codemirror_mode": {
    "name": "ipython",
    "version": 3
   },
   "file_extension": ".py",
   "mimetype": "text/x-python",
   "name": "python",
   "nbconvert_exporter": "python",
   "pygments_lexer": "ipython3",
   "version": "3.8.10"
  }
 },
 "nbformat": 4,
 "nbformat_minor": 5
}
