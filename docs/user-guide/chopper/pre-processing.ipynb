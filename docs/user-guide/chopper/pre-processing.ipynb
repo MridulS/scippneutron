{
 "cells": [
  {
   "cell_type": "markdown",
   "id": "42996d93-a7fa-4ce3-ab16-d56377e24be6",
   "metadata": {},
   "source": [
    "# Pre-processing Choppers\n",
    "\n",
    "When choppers are loaded from NeXus, they typically contain a number of fields that need to be processed before they can be used for computing wavelength ranges, etc.\n",
    "This guide shows how to extract the relevant data from such a NeXus chopper and create a [scippneutron.chopper.DiskChopper](../../generated/modules/scippneutron.chopper.disk_chopper.DiskChopper.rst) object."
   ]
  },
  {
   "cell_type": "code",
   "execution_count": null,
   "id": "76d094dc-9172-422f-8ad5-a2b44ca9d488",
   "metadata": {},
   "outputs": [],
   "source": [
    "import matplotlib.pyplot as plt\n",
    "import plopp as pp\n",
    "import scipp as sc"
   ]
  },
  {
   "cell_type": "markdown",
   "id": "0dc57cbc-3639-40b7-b4d9-58fa228c21e0",
   "metadata": {},
   "source": [
    "This guide uses fake data for a chopper which roughly represents what a real chopper loaded from NeXus looks like.\n",
    "ScippNeutron has a function for generating this data:"
   ]
  },
  {
   "cell_type": "code",
   "execution_count": null,
   "id": "f99ebde7-ecf8-42b9-b092-4e597429fcf1",
   "metadata": {},
   "outputs": [],
   "source": [
    "from scippneutron.data import chopper_mockup\n",
    "\n",
    "chopper = chopper_mockup()\n",
    "chopper"
   ]
  },
  {
   "cell_type": "markdown",
   "id": "3b8e7b52-e80c-466f-9a3f-a09a8edece36",
   "metadata": {},
   "source": [
    "We can see that there is some information about the slits and geometry of the chopper as well as some timing-related data.\n",
    "Take a look at the [NXdisk_chopper](https://manual.nexusformat.org/classes/base_classes/NXdisk_chopper.html) documentation for an overview of the fields.\n",
    "In this case, there already is a `position`.\n",
    "This typically needs to be computed first, see [scippnexus.compute_positions](https://scipp.github.io/scippnexus/generated/functions/scippnexus.compute_positions.html).\n",
    "\n",
    "Some fields are nested data groups which appear when a NeXus file contains `NXlog`s.\n",
    "We can extract the relevant arrays from them using `post_process_disk_chopper`:"
   ]
  },
  {
   "cell_type": "code",
   "execution_count": null,
   "id": "6616dc25-3354-47f6-9193-a9f7b53ac95c",
   "metadata": {},
   "outputs": [],
   "source": [
    "from scippneutron.chopper import post_process_disk_chopper\n",
    "\n",
    "chopper = post_process_disk_chopper(chopper)\n",
    "chopper"
   ]
  },
  {
   "cell_type": "markdown",
   "id": "46ac5332-afa3-46cb-8f55-45936c17f1e0",
   "metadata": {},
   "source": [
    "Some data varies with time.\n",
    "This is difficult to deal with, e.g., when [unwrapping frames](./frame-unwrapping.ipynb).\n",
    "So we need to extract time-independent quantities from the raw chopper data.\n",
    "\n",
    "## Identify In-phase Regions\n",
    "\n",
    "Frame unwrapping is only feasible when the chopper is in-phase with the neutron source as wavelength ranges and resolutions would change with time otherwise.\n",
    "To identify regions where the chopper is in-phase, we first find plateaus in the `rotation_speed` which is the rotation frequency of the chopper."
   ]
  },
  {
   "cell_type": "code",
   "execution_count": null,
   "id": "72faf524-d627-40f1-815f-3c36e43c1a06",
   "metadata": {},
   "outputs": [],
   "source": [
    "rotation_speed = chopper['rotation_speed']\n",
    "rotation_speed.name = 'rotation_speed'\n",
    "rotation_speed"
   ]
  },
  {
   "cell_type": "markdown",
   "id": "e1951d67-7377-421b-8836-a369428424aa",
   "metadata": {},
   "source": [
    "The chopper has a long region of near-constant rotation speed surrounded by spin-up and spin-down regions:"
   ]
  },
  {
   "cell_type": "code",
   "execution_count": null,
   "id": "ee2cf913-4d7b-4187-ae78-08c55e6c016d",
   "metadata": {},
   "outputs": [],
   "source": [
    "rotation_speed.plot(markersize=2)"
   ]
  },
  {
   "cell_type": "markdown",
   "id": "4a878315-1107-4048-bd08-88c3140846b2",
   "metadata": {},
   "source": [
    "Use [find_plateaus](../../generated/modules/scippneutron.chopper.filtering.collapse_plateaus.rst) and [collapse_plateaus](../../generated/modules/scippneutron.chopper.filtering.collapse_plateaus.rst) to find those plateaus.\n",
    "Note the `atol` and `min_n_points` parameters which need to be tuned for specific data."
   ]
  },
  {
   "cell_type": "code",
   "execution_count": null,
   "id": "987fec7f-4fb8-4dda-8d08-69bbf0ef453f",
   "metadata": {},
   "outputs": [],
   "source": [
    "from scippneutron.chopper import collapse_plateaus, find_plateaus\n",
    "\n",
    "plateaus = find_plateaus(rotation_speed, atol=sc.scalar(1e-3, unit='Hz'), min_n_points=10)\n",
    "plateaus = collapse_plateaus(plateaus)\n",
    "plateaus"
   ]
  },
  {
   "cell_type": "markdown",
   "id": "57601415-d242-4837-8c31-a0107fd3ef70",
   "metadata": {},
   "source": [
    "In this case, the `find_plateaus` found two plateaus that we can plot with the following helper function:"
   ]
  },
  {
   "cell_type": "code",
   "execution_count": null,
   "id": "c6e05f3c-597f-45f7-8c28-6cecae6afe39",
   "metadata": {},
   "outputs": [],
   "source": [
    "def plot_plateaus(raw_data: sc.DataArray, plateaus: sc.DataArray) -> None:\n",
    "    fig, ax = plt.subplots(1)\n",
    "    raw_data.plot(ax=ax, markersize=2)\n",
    "    for plateau in plateaus:\n",
    "        i = plateau.coords['plateau'].value\n",
    "        da = sc.DataArray(\n",
    "            plateau.data.broadcast(dims=['time'], shape=[2]),\n",
    "            coords={'time': plateau.coords['time']},\n",
    "            name=f'Plateau {i}')\n",
    "        da.plot(ax=ax, ls='-', marker='|', c=f'C{i + 1}')"
   ]
  },
  {
   "cell_type": "code",
   "execution_count": null,
   "id": "e05e316b-7477-4a57-bd23-559c3f86039c",
   "metadata": {},
   "outputs": [],
   "source": [
    "plot_plateaus(rotation_speed, plateaus)"
   ]
  },
  {
   "cell_type": "markdown",
   "id": "5b53692a-3651-47e2-91d1-9e2e246ca8c0",
   "metadata": {},
   "source": [
    "In this case, the source has a frequency of 14Hz which means that plateau 0 is in phase.\n",
    "But plateau 1 is not, it is a short region where the chopper slowed down before fully stopping.\n",
    "\n",
    "We can use [filter_in_phase](../../generated/modules/scippneutron.chopper.filtering.filter_in_phase.rst) to remove all out-of-phase plateaus:"
   ]
  },
  {
   "cell_type": "code",
   "execution_count": null,
   "id": "9e9d02e9-39cb-4b7c-83d3-bac811f62739",
   "metadata": {},
   "outputs": [],
   "source": [
    "source_frequency = sc.scalar(14.0, unit='Hz')"
   ]
  },
  {
   "cell_type": "code",
   "execution_count": null,
   "id": "26298eb1-4133-4d91-9ba1-26e1b12e4fcf",
   "metadata": {},
   "outputs": [],
   "source": [
    "from scippneutron.chopper import filter_in_phase\n",
    "\n",
    "frequency_in_phase = filter_in_phase(plateaus,\n",
    "                           reference=source_frequency,\n",
    "                           rtol=sc.scalar(1e-3))\n",
    "frequency_in_phase"
   ]
  },
  {
   "cell_type": "code",
   "execution_count": null,
   "id": "944c83e1-e754-41ee-8cd9-2f71e9c0909d",
   "metadata": {},
   "outputs": [],
   "source": [
    "plot_plateaus(rotation_speed, frequency_in_phase)"
   ]
  },
  {
   "cell_type": "markdown",
   "id": "8ab74e44-4e53-4c70-b255-9fa3009497c7",
   "metadata": {},
   "source": [
    "## Extract Plateau\n",
    "\n",
    "Since there is only one plateau left, we can simply index into it to get the chopper frequency:"
   ]
  },
  {
   "cell_type": "code",
   "execution_count": null,
   "id": "e8bcf40c-4fb7-42e7-a432-9566db7d1c25",
   "metadata": {},
   "outputs": [],
   "source": [
    "frequency = frequency_in_phase['plateau', 0]\n",
    "frequency"
   ]
  },
  {
   "cell_type": "markdown",
   "id": "171c212b-66cf-4e09-89bb-c1d0480a5d59",
   "metadata": {},
   "source": [
    "Next, we need the TDC timestamps for the in-phase region.\n",
    "We can do this with label-based-indexing but need to construct a helper data array first:"
   ]
  },
  {
   "cell_type": "code",
   "execution_count": null,
   "id": "96cf20bd-9be3-4479-9d58-7d0094094cdf",
   "metadata": {},
   "outputs": [],
   "source": [
    "tdc = chopper['top_dead_center']\n",
    "tdc"
   ]
  },
  {
   "cell_type": "code",
   "execution_count": null,
   "id": "413583ea-931d-4357-adec-d1e0a2a29d21",
   "metadata": {},
   "outputs": [],
   "source": [
    "aux = sc.DataArray(sc.scalar(0).broadcast(sizes=tdc.sizes),\n",
    "                   coords={'time': tdc})\n",
    "low = frequency.coords['time'][0]\n",
    "high = frequency.coords['time'][1]\n",
    "tdc_in_phase = aux['time', low:high].coords['time']\n",
    "tdc_in_phase"
   ]
  },
  {
   "cell_type": "markdown",
   "id": "676e819a-8f4a-424e-84a4-322cfdc324f5",
   "metadata": {},
   "source": [
    "We can check that the rate at which the TDC triggers is indeed close to 14Hz.\n",
    "(The deviation comes from the way the fake data is constructed.)"
   ]
  },
  {
   "cell_type": "code",
   "execution_count": null,
   "id": "f09b8d83-b3d1-4a0c-8b0a-2d2c602202b4",
   "metadata": {},
   "outputs": [],
   "source": [
    "diff = tdc_in_phase[1:] - tdc_in_phase[:-1]\n",
    "rate = 1 / diff.to(unit='s', dtype='float64')\n",
    "rate.min(), rate.max()"
   ]
  },
  {
   "cell_type": "markdown",
   "id": "b7e14885-58a0-4afb-9935-a9f0d3e4ad84",
   "metadata": {},
   "source": [
    "## Compute Chopper Phase"
   ]
  },
  {
   "cell_type": "markdown",
   "id": "0a7e7d47-1c94-4ee4-92d0-a1169f8ab958",
   "metadata": {},
   "source": [
    "## Build `DiskChopper`\n",
    "\n",
    "Finally, we can assemble all data into a [scippneutron.chopper.DiskChopper](../../generated/modules/scippneutron.chopper.disk_chopper.DiskChopper.rst) object:"
   ]
  },
  {
   "cell_type": "code",
   "execution_count": null,
   "id": "8e33e3e8-099a-40c8-9629-2f6e5bd39806",
   "metadata": {},
   "outputs": [],
   "source": [
    "processed = chopper.copy()\n",
    "processed['rotation_speed'] = frequency.data\n",
    "processed['phase'] = ..."
   ]
  },
  {
   "cell_type": "markdown",
   "id": "965c27a8-6497-4d86-86a8-9daa536b7dca",
   "metadata": {},
   "source": [
    "The input data does not contain a beam position (the angle between the beam and TDC).\n",
    "This probably means that it is 0.\n",
    "But since `DiskChopper` does not make that assumption we have to be explicit:"
   ]
  },
  {
   "cell_type": "code",
   "execution_count": null,
   "id": "0c0443b9-27ec-4c78-a112-fc52a05ff1af",
   "metadata": {},
   "outputs": [],
   "source": [
    "processed['beam_position'] = sc.scalar(0.0, unit='rad')"
   ]
  },
  {
   "cell_type": "code",
   "execution_count": null,
   "id": "0fb751b1-715f-4d0b-bc6e-b613a7a57b98",
   "metadata": {},
   "outputs": [],
   "source": [
    "from scippneutron.chopper import DiskChopper\n",
    "\n",
    "disk_chopper = DiskChopper.from_nexus(processed)\n",
    "disk_chopper"
   ]
  }
 ],
 "metadata": {
  "kernelspec": {
   "display_name": "Python 3 (ipykernel)",
   "language": "python",
   "name": "python3"
  },
  "language_info": {
   "codemirror_mode": {
    "name": "ipython",
    "version": 3
   },
   "file_extension": ".py",
   "mimetype": "text/x-python",
   "name": "python",
   "nbconvert_exporter": "python",
   "pygments_lexer": "ipython3",
   "version": "3.10.13"
  }
 },
 "nbformat": 4,
 "nbformat_minor": 5
}
