{
 "cells": [
  {
   "cell_type": "markdown",
   "id": "42996d93-a7fa-4ce3-ab16-d56377e24be6",
   "metadata": {},
   "source": [
    "# Pre-processing Choppers"
   ]
  },
  {
   "cell_type": "code",
   "execution_count": null,
   "id": "76d094dc-9172-422f-8ad5-a2b44ca9d488",
   "metadata": {},
   "outputs": [],
   "source": [
    "import scipp as sc\n",
    "import matplotlib.pyplot as plt"
   ]
  },
  {
   "cell_type": "code",
   "execution_count": null,
   "id": "636972e3-8cc9-4e5d-a161-4548547e2ceb",
   "metadata": {},
   "outputs": [],
   "source": [
    "# TODO remove\n",
    "%matplotlib widget"
   ]
  },
  {
   "cell_type": "markdown",
   "id": "0dc57cbc-3639-40b7-b4d9-58fa228c21e0",
   "metadata": {},
   "source": [
    "This guide uses fake data for a chopper which roughly represents what a real chopper loaded from NeXus looks like.\n",
    "ScippNeutron has a function for generating this data:"
   ]
  },
  {
   "cell_type": "code",
   "execution_count": null,
   "id": "f99ebde7-ecf8-42b9-b092-4e597429fcf1",
   "metadata": {},
   "outputs": [],
   "source": [
    "from scippneutron.data import chopper_mockup\n",
    "\n",
    "chopper = chopper_mockup()\n",
    "chopper"
   ]
  },
  {
   "cell_type": "markdown",
   "id": "3b8e7b52-e80c-466f-9a3f-a09a8edece36",
   "metadata": {},
   "source": [
    "We can see that there is some information about the slits and geometry of the chopper as well as some timing-related data.\n",
    "Take a look at the [NXdisk_chopper](https://manual.nexusformat.org/classes/base_classes/NXdisk_chopper.html) documentation for an overview of the fields.\n",
    "\n",
    "Some fields are nested data groups which appear when a NeXus file contains `NXlog`s.\n",
    "We can extract the relevant arrays from them using `post_process_disk_chopper`:"
   ]
  },
  {
   "cell_type": "code",
   "execution_count": null,
   "id": "6616dc25-3354-47f6-9193-a9f7b53ac95c",
   "metadata": {},
   "outputs": [],
   "source": [
    "from scippneutron.chopper import post_process_disk_chopper\n",
    "\n",
    "chopper = post_process_disk_chopper(chopper)\n",
    "chopper"
   ]
  },
  {
   "cell_type": "markdown",
   "id": "46ac5332-afa3-46cb-8f55-45936c17f1e0",
   "metadata": {},
   "source": [
    "Some data varies with time.\n",
    "This is difficult to deal with, e.g., when [unwrapping frames](./frame-unwrapping.ipynb).\n",
    "So we need to extract time-independent quantities from the raw chopper data.\n",
    "\n",
    "## Identify in-phase regions\n",
    "\n",
    "Frame unwrapping is only feasible when the chopper is in-phase with the neutron source as wavelength ranges and resolutions would change with time otherwise.\n",
    "To identify regions where the chopper is in-phase, we first find plateaus in the `rotation_speed` which is the rotation frequency of the chopper."
   ]
  },
  {
   "cell_type": "code",
   "execution_count": null,
   "id": "72faf524-d627-40f1-815f-3c36e43c1a06",
   "metadata": {},
   "outputs": [],
   "source": [
    "rotation_speed = chopper['rotation_speed']\n",
    "rotation_speed.name = 'rotation_speed'\n",
    "rotation_speed"
   ]
  },
  {
   "cell_type": "markdown",
   "id": "e1951d67-7377-421b-8836-a369428424aa",
   "metadata": {},
   "source": [
    "The chopper has a long region of near-constant rotation speed surrounded by spin-up and spin-down regions:"
   ]
  },
  {
   "cell_type": "code",
   "execution_count": null,
   "id": "ee2cf913-4d7b-4187-ae78-08c55e6c016d",
   "metadata": {},
   "outputs": [],
   "source": [
    "rotation_speed.plot(markersize=2)"
   ]
  },
  {
   "cell_type": "markdown",
   "id": "4a878315-1107-4048-bd08-88c3140846b2",
   "metadata": {},
   "source": [
    "Use [find_plateaus](../../generated/modules/scippneutron.chopper.filtering.collapse_plateaus.rst) and [collapse_plateaus](../../generated/modules/scippneutron.chopper.filtering.collapse_plateaus.rst) to find those plateaus.\n",
    "Note the `atol` and `min_n_points` parameters which need to be tuned for specific data."
   ]
  },
  {
   "cell_type": "code",
   "execution_count": null,
   "id": "987fec7f-4fb8-4dda-8d08-69bbf0ef453f",
   "metadata": {},
   "outputs": [],
   "source": [
    "from scippneutron.chopper import collapse_plateaus, find_plateaus\n",
    "\n",
    "plateaus = find_plateaus(rotation_speed, atol=sc.scalar(1e-3, unit='Hz'), min_n_points=10)\n",
    "plateaus = collapse_plateaus(plateaus)\n",
    "plateaus"
   ]
  },
  {
   "cell_type": "markdown",
   "id": "57601415-d242-4837-8c31-a0107fd3ef70",
   "metadata": {},
   "source": [
    "In this case, the `find_plateaus` found two plateaus that we can plot with the following helper function:"
   ]
  },
  {
   "cell_type": "code",
   "execution_count": null,
   "id": "c6e05f3c-597f-45f7-8c28-6cecae6afe39",
   "metadata": {},
   "outputs": [],
   "source": [
    "def plot_plateaus(raw_data: sc.DataArray, plateaus: sc.DataArray) -> None:\n",
    "    fig, ax = plt.subplots(1)\n",
    "    raw_data.plot(ax=ax, markersize=2)\n",
    "    for plateau in plateaus:\n",
    "        i = plateau.coords['plateau'].value\n",
    "        da = sc.DataArray(\n",
    "            plateau.data.broadcast(dims=['time'], shape=[2]),\n",
    "            coords={'time': plateau.coords['time']},\n",
    "            name=f'Plateau {i}')\n",
    "        da.plot(ax=ax, ls='-', marker='|', c=f'C{i + 1}')"
   ]
  },
  {
   "cell_type": "code",
   "execution_count": null,
   "id": "e05e316b-7477-4a57-bd23-559c3f86039c",
   "metadata": {},
   "outputs": [],
   "source": [
    "plot_plateaus(rotation_speed, plateaus)"
   ]
  },
  {
   "cell_type": "markdown",
   "id": "5b53692a-3651-47e2-91d1-9e2e246ca8c0",
   "metadata": {},
   "source": [
    "In this case, the source has a frequency of 14Hz which means that plateau 0 is in phase.\n",
    "But plateau 1 is not, it is a short region where the chopper slowed down before fully stopping.\n",
    "\n",
    "We can use [filter_in_phase](../../generated/modules/scippneutron.chopper.filtering.filter_in_phase.rst) to remove all out-of-phase plateaus:"
   ]
  },
  {
   "cell_type": "code",
   "execution_count": null,
   "id": "9e9d02e9-39cb-4b7c-83d3-bac811f62739",
   "metadata": {},
   "outputs": [],
   "source": [
    "source_frequency = sc.scalar(14.0, unit='Hz')"
   ]
  },
  {
   "cell_type": "code",
   "execution_count": null,
   "id": "26298eb1-4133-4d91-9ba1-26e1b12e4fcf",
   "metadata": {},
   "outputs": [],
   "source": [
    "from scippneutron.chopper import filter_in_phase\n",
    "\n",
    "filtered = filter_in_phase(plateaus,\n",
    "                           reference=source_frequency,\n",
    "                           rtol=sc.scalar(1e-3))\n",
    "filtered"
   ]
  },
  {
   "cell_type": "code",
   "execution_count": null,
   "id": "944c83e1-e754-41ee-8cd9-2f71e9c0909d",
   "metadata": {},
   "outputs": [],
   "source": [
    "plot_plateaus(rotation_speed, filtered)"
   ]
  }
 ],
 "metadata": {
  "kernelspec": {
   "display_name": "Python 3 (ipykernel)",
   "language": "python",
   "name": "python3"
  },
  "language_info": {
   "codemirror_mode": {
    "name": "ipython",
    "version": 3
   },
   "file_extension": ".py",
   "mimetype": "text/x-python",
   "name": "python",
   "nbconvert_exporter": "python",
   "pygments_lexer": "ipython3",
   "version": "3.10.13"
  }
 },
 "nbformat": 4,
 "nbformat_minor": 5
}
