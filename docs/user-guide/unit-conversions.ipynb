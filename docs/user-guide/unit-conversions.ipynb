{
 "cells": [
  {
   "cell_type": "markdown",
   "metadata": {},
   "source": [
    "# Unit conversions\n",
    "\n",
    "## Available conversions"
   ]
  },
  {
   "cell_type": "markdown",
   "metadata": {},
   "source": [
    "Time-of-flight neutron-scattering unit conversions implement the following conversions.\n",
    "For background we refer to PaN-learning on [Introduction to neutron scattering](https://pan-learning.org/wiki/index.php/Introduction_to_neutron_scattering) and [Basics of neutron scattering](https://pan-learning.org/wiki/index.php/Basics_of_neutron_scattering).\n",
    "In scippneutron, unit conversions are performed by [scippneutron.convert](../generated/scippneutron.convert.rst#scippneutron.convert).\n",
    "\n",
    "In summary, in the table below for the supported unit conversions:\n",
    "\n",
    "- $h$ is the Planck constant, $m_{\\mathrm{n}}$ is the neutron mass.\n",
    "- $L_1$ is the primary flight path length, i.e., the distance between source and sample.\n",
    "  The source position defines the point where $t=0$ (or vice versa).\n",
    "- $L_2$ is the secondary flight path length, i.e., the distance(s) between sample and detector(s).\n",
    "- $L_{\\mathrm{total}} = L_1 + L_2$\n",
    "- $d$ is the interplanar lattice spacing\n",
    "- $\\theta$ is the scattering angle, as defined in Bragg's law, not to be confused with $\\theta_{\\mathrm{spherical}}$ in sperical coordinates.\n",
    "  In many instruments the beam is roughly aligned with the $z$-axis, so $2\\theta = \\theta_{\\mathrm{spherical}}$.\n",
    "  The factor of $2$ is a recurrent source of bugs.\n",
    "  \n",
    "In the special case of inelastic neutron scattering we have additionally:\n",
    "\n",
    "- $E_i$ is the known incident energy. This case is called *direct inelastic scattering*.\n",
    "  We define $t_0 = \\sqrt{L_1^2 \\cdot m_{\\mathrm{n}} / E_i}$\n",
    "- $E_f$ is the known final energy. This case is called *indirect inelastic scattering*.\n",
    "  We define $t_0 = \\sqrt{L_2^2 \\cdot m_{\\mathrm{n}} /E_F}$\n",
    "  In this case $E_f$ is actually determined by analyzer crystals in the secondary flight path.\n",
    "  It is assumed that the detector positions are set to the effective (neutronic) rather than physical positions, since the computation of $L_2$ assumes a straight line connection between sample and detectors.\n",
    "\n",
    "|Origin unit |Target unit |Formula  used for coord conversion |\n",
    "|---|---|:---|\n",
    "|`tof`|`dspacing`|$d = \\frac{\\lambda}{2\\sin(\\theta)} = \\frac{h \\cdot t}{L_{\\mathrm{total}} \\cdot m_{\\mathrm{n}} \\cdot 2 \\sin(\\theta)}$|\n",
    "| `tof`|`wavelength`|$\\lambda = \\frac{h \\cdot t}{m_{\\mathrm{n}} \\cdot L_{\\mathrm{total}}}$|\n",
    "|`wavelength`|`Q`|$Q = \\frac{4 \\pi \\sin(\\theta)}{\\lambda}$|\n",
    "|`Q`|`wavelength`|$\\lambda = \\frac{4 \\pi \\sin(\\theta)}{Q}$|\n",
    "| `tof`|`energy`|$E = \\frac{m_{\\mathrm{n}}L^2_{\\mathrm{total}}}{2t^2}$|\n",
    "| `tof`|`energy_transfer` (direct)|$E = E_i - \\frac{m_{\\mathrm{n}}L^2_{\\mathrm{2}}}{2\\left(t-t_0\\right)^{2}}$|\n",
    "| `tof`|`energy_transfer` (indirect)|$E = \\frac{m_{\\mathrm{n}}L^2_{\\mathrm{1}}}{2\\left(t-t_0\\right)^{2}} - E_f$|\n",
    "\n",
    "The parameters given in the table above are retrieved from the coordinates or attributes of the input data.\n",
    "`convert` searches through a graph to determine which coords (or attrs) to use.\n",
    "The exact graph depends on the chosen `origin` and `target` coordinates.\n",
    "You can get the graph for a concrete conversion using [scippneutron.conversion_graph](../generated/scippneutron.conversion_graph.rst#scippneutron.conversion_graph)."
   ]
  },
  {
   "cell_type": "markdown",
   "metadata": {},
   "source": [
    "## Elastic scattering conversions\n",
    "The graph below is a representative example for conversions from `tof` to elastic-scattering coordinates."
   ]
  },
  {
   "cell_type": "code",
   "execution_count": null,
   "metadata": {},
   "outputs": [],
   "source": [
    "import scipp as sc\n",
    "import scippneutron as scn"
   ]
  },
  {
   "cell_type": "code",
   "execution_count": null,
   "metadata": {},
   "outputs": [],
   "source": [
    "sc.show_graph(scn.conversion_graph(origin='tof',\n",
    "                                   target='energy',\n",
    "                                   scatter=True,\n",
    "                                   energy_mode='elastic'),\n",
    "              simplified=True)"
   ]
  },
  {
   "cell_type": "markdown",
   "metadata": {},
   "source": [
    "Incoming arrows show inputs of a quantity.\n",
    "For example, `wavelength` has `Ltotal` and `tof` as inputs.\n",
    "Those must either be stored in the input data or there needs to be a way of computing them from their respective inputs.\n",
    "\n",
    "To illustrate, consider a conversion from `tof` to `energy`. `convert` will proceed in the following way\n",
    "- If `energy` is present as a coordinate or attribute, no action is required.\n",
    "- Otherwise, compute `energy` from `tof` and `Ltotal`.\n",
    "  - If `tof` is present, use that, else abort as `tof` cannot be computed from other parameters.\n",
    "  - If `Ltotal` is present, use that, else compute from `L1` and `L2`.\n",
    "    - Proceed with `L1` and `L2` in the same manner, tying to read them from the coordinates or attributes or compute them from their inputs.\n",
    "\n",
    "In the following, we start with coorindates for `sample_position`, `position`, `incident_beam`, and `tof` and use those to compute `energy`."
   ]
  },
  {
   "cell_type": "code",
   "execution_count": null,
   "metadata": {},
   "outputs": [],
   "source": [
    "da = sc.DataArray(sc.arange('x', 1, 7,\n",
    "                            unit='counts').fold('x', {\n",
    "                                'spectrum': 2,\n",
    "                                'tof': 3\n",
    "                            }),\n",
    "                  coords={\n",
    "                      'tof':\n",
    "                          sc.array(dims=['tof'],\n",
    "                                   values=[5300.0, 6000.0, 6100.0, 7300.0],\n",
    "                                   unit='us'),\n",
    "                      'sample_position':\n",
    "                          sc.vector(value=[0.0, 0.0, 0.0], unit='m'),\n",
    "                      'position':\n",
    "                          sc.vectors(dims=['spectrum'],\n",
    "                                     values=[[1.0, 0.0, 0.0], [0.1, 0.0, 1.0]],\n",
    "                                     unit='m'),\n",
    "                      'incident_beam':\n",
    "                          sc.vector(value=[0.0, 0.0, 10.0], unit='m')\n",
    "                  })\n",
    "da"
   ]
  },
  {
   "cell_type": "code",
   "execution_count": null,
   "metadata": {},
   "outputs": [],
   "source": [
    "scn.convert(da, origin='tof', target='energy', scatter=True)"
   ]
  },
  {
   "cell_type": "markdown",
   "metadata": {},
   "source": [
    "Note how `convert` produced the desired `energy` coordinate and renamed the old `tof` dimension to `energy`.\n",
    "It also saved all intermediate results along with the inputs as attributes."
   ]
  },
  {
   "cell_type": "markdown",
   "metadata": {},
   "source": [
    "## Inelastic scattering conversions\n",
    "\n",
    "As explained above, there are two cases of inelastic scattering, direct and indirect.\n",
    "`convert` determines which one to use based on the available coordinates.\n",
    "If the input has a coordinate \n",
    "- `incident_energy` &rarr; use direct inelastic scattering\n",
    "- `final_energy` &rarr; use indirect inelastic scattering\n",
    "- both &rarr; error because the situation is ambiguous\n",
    "- neither &rarr; error because inputs are missing\n",
    "\n",
    "The graph below is for direct inelastic scattering.\n",
    "The graph for the indirect case is analogous."
   ]
  },
  {
   "cell_type": "code",
   "execution_count": null,
   "metadata": {},
   "outputs": [],
   "source": [
    "sc.show_graph(scn.conversion_graph(origin='tof',\n",
    "                                   target='energy_transfer',\n",
    "                                   scatter=True,\n",
    "                                   energy_mode='direct_inelastic'),\n",
    "              simplified=True)"
   ]
  },
  {
   "cell_type": "markdown",
   "metadata": {},
   "source": [
    "## Non-scattering conversion\n",
    "\n",
    "When converting coordinates of measurements without scattering, for example of beam monitors on imaging beamlines, a different graph needs to be used as there is no scattered beam."
   ]
  },
  {
   "cell_type": "code",
   "execution_count": null,
   "metadata": {},
   "outputs": [],
   "source": [
    "sc.show_graph(scn.conversion_graph(origin='tof',\n",
    "                                   target='energy',\n",
    "                                   scatter=False,\n",
    "                                   energy_mode='elastic'),\n",
    "              simplified=True)"
   ]
  },
  {
   "cell_type": "markdown",
   "metadata": {},
   "source": [
    "`scippneutron.convert` uses [scipp.transform_coords](https://scipp.github.io/user-guide/coordinate-transformations.html) under the hood.\n",
    "See the linked page for more details on conversion graphs and how to construct your own."
   ]
  }
 ],
 "metadata": {
  "kernelspec": {
   "display_name": "Python 3 (ipykernel)",
   "language": "python",
   "name": "python3"
  },
  "language_info": {
   "codemirror_mode": {
    "name": "ipython",
    "version": 3
   },
   "file_extension": ".py",
   "mimetype": "text/x-python",
   "name": "python",
   "nbconvert_exporter": "python",
   "pygments_lexer": "ipython3",
   "version": "3.8.10"
  },
  "toc-autonumbering": false,
  "toc-showcode": false,
  "toc-showmarkdowntxt": false,
  "toc-showtags": false
 },
 "nbformat": 4,
 "nbformat_minor": 4
}
