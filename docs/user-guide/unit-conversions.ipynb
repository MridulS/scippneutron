{
 "cells": [
  {
   "cell_type": "markdown",
   "metadata": {},
   "source": [
    "# Unit conversions"
   ]
  },
  {
   "cell_type": "markdown",
   "metadata": {},
   "source": [
    "Time-of-flight neutron-scattering unit conversions implement the following conversions.\n",
    "For background we refer to PaN-learning on [Introduction to neutron scattering](https://pan-learning.org/wiki/index.php/Introduction_to_neutron_scattering) and [Basics of neutron scattering](https://pan-learning.org/wiki/index.php/Basics_of_neutron_scattering).\n",
    "In summary, in the table below for the supported unit conversions:\n",
    "\n",
    "- $h$ is the Planck constant, $m_{\\mathrm{n}}$ is the neutron mass.\n",
    "- $L_1$ is the primary flight path length, i.e., the distance between source and sample.\n",
    "  The source position defines the point where $t=0$ (or vice versa).\n",
    "- $L_2$ is the secondary flight path length, i.e., the distance(s) between sample and detector(s).\n",
    "- $L_{\\mathrm{total}} = L_1 + L_2$\n",
    "- $d$ is the interplanar lattice spacing\n",
    "- $\\theta$ is the scattering angle, as defined in Bragg's law, not to be confused with $\\theta_{\\mathrm{spherical}}$ in sperical coordinates.\n",
    "  In many instruments the beam is roughly aligned with the $z$-axis, so $2\\theta = \\theta_{\\mathrm{spherical}}$.\n",
    "  The factor of $2$ is a recurrent source of bugs.\n",
    "  \n",
    "In the special case of inelastic neutron scattering we have additionally:\n",
    "\n",
    "- $E_i$ is the known incident energy. This case is called *direct inelastic scattering*.\n",
    "  We define $t_0 = \\sqrt{L_1^2 \\cdot m_{\\mathrm{n}} / E_i}$\n",
    "- $E_f$ is the known final energy. This case is called *indirect inelastic scattering*.\n",
    "  We define $t_0 = \\sqrt{L_2^2 \\cdot m_{\\mathrm{n}} /E_F}$\n",
    "  In this case $E_f$ is actually determined by analyzer crystals in the secondary flight path.\n",
    "  It is assumed that the detector positions are set to the effective (neutronic) rather than physical positions, since the computation of $L_2$ assumes a straight line connection between sample and detectors.\n",
    "\n",
    "|Origin unit |Target unit |Formula  used for coord conversion |\n",
    "|---|---|:---|\n",
    "|`tof`|`d-spacing`|$d = \\frac{\\lambda}{2\\sin(\\theta)} = \\frac{h \\cdot t}{L_{\\mathrm{total}} \\cdot m_{\\mathrm{n}} \\cdot 2 \\sin(\\theta)}$|\n",
    "|`d-spacing`|`tof`|$t = \\frac{d \\cdot L_{\\mathrm{total}} \\cdot m_{\\mathrm{n}} \\cdot 2 \\sin(\\theta)}{h}$|\n",
    "| `tof`|`wavelength`|$\\lambda = \\frac{h \\cdot t}{m_{\\mathrm{n}} \\cdot L_{\\mathrm{total}}}$|\n",
    "|`wavelength`|`tof`|$t = \\frac{m_{\\mathrm{n}} \\cdot L_{\\mathrm{total}} \\cdot \\lambda}{h}$|\n",
    "| `tof`|`energy`|$E = \\frac{m_{\\mathrm{n}}L^2_{\\mathrm{total}}}{2t^2}$|\n",
    "| `tof`|`energy-transfer` (direct)|$E = E_i - \\frac{m_{\\mathrm{n}}L^2_{\\mathrm{2}}}{2\\left(t-t_0\\right)^{2}}$|\n",
    "| `tof`|`energy-transfer` (indirect)|$E = \\frac{m_{\\mathrm{n}}L^2_{\\mathrm{1}}}{2\\left(t-t_0\\right)^{2}} - E_f$|\n",
    "|`energy`|`tof`|$t = \\frac{L_{\\mathrm{total}}}{\\sqrt{\\frac{2 E}{m_{\\mathrm{n}}}}}$|"
   ]
  }
 ],
 "metadata": {
  "kernelspec": {
   "display_name": "Python 3",
   "language": "python",
   "name": "python3"
  },
  "language_info": {
   "codemirror_mode": {
    "name": "ipython",
    "version": 3
   },
   "file_extension": ".py",
   "mimetype": "text/x-python",
   "name": "python",
   "nbconvert_exporter": "python",
   "pygments_lexer": "ipython3",
   "version": "3.7.8"
  }
 },
 "nbformat": 4,
 "nbformat_minor": 4
}
