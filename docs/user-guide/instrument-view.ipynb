{
 "cells": [
  {
   "cell_type": "markdown",
   "metadata": {},
   "source": [
    "# Instrument view\n",
    "\n",
    "## Overview\n",
    "\n",
    "A simple version of the Mantid [instrument view](https://www.mantidproject.org/MantidPlot:_Instrument_View) is available in `scipp`.\n",
    "It currently does not support detector 'picking' and manual drawing of masks,\n",
    "nor does it render the actual shape of the detectors (currently it represents them as 2d squares),\n",
    "but basic functionalities such as spatial slicing,\n",
    "as well as navigation through the time-of-flight dimension via a slider, are provided."
   ]
  },
  {
   "cell_type": "markdown",
   "metadata": {},
   "source": [
    "<div class=\"alert alert-info\">\n",
    "\n",
    "**Note**\n",
    "\n",
    "The files used in this notebook were taken from the Mantid [training course data](http://sourceforge.net/projects/mantid/files/Sample%20Data/TrainingCourseData.zip/download).\n",
    "\n",
    "</div>"
   ]
  },
  {
   "cell_type": "markdown",
   "metadata": {},
   "source": [
    "<div class=\"alert alert-warning\">\n",
    "\n",
    "**Warning**\n",
    "    \n",
    "While you can interact with the 3D view of the instrument,\n",
    "the buttons and sliders will have no effect in the documentation pages,\n",
    "as there is no kernel to perform the operations.\n",
    "These will only work inside a Jupyter notebook.\n",
    "\n",
    "</div>"
   ]
  },
  {
   "cell_type": "markdown",
   "metadata": {},
   "source": [
    "The instrument view is part of the `scippneutron` module, and it is launched as follows:"
   ]
  },
  {
   "cell_type": "code",
   "execution_count": null,
   "metadata": {},
   "outputs": [],
   "source": [
    "import numpy as np\n",
    "import scipp as sc\n",
    "import scippneutron as scn"
   ]
  },
  {
   "cell_type": "code",
   "execution_count": null,
   "metadata": {},
   "outputs": [],
   "source": [
    "sample = scn.load(scn.data.get_path('PG3_4844_event.nxs'))\n",
    "sample"
   ]
  },
  {
   "cell_type": "code",
   "execution_count": null,
   "metadata": {},
   "outputs": [],
   "source": [
    "scn.instrument_view(sample)"
   ]
  },
  {
   "cell_type": "markdown",
   "metadata": {},
   "source": [
    "You can adjust opacities and create a cut surface to slice your data in 3D using the control buttons below the scene.\n",
    "\n",
    "It is possible to customize the figure using the usual arguments, as well as adjusting the pixel size, e.g."
   ]
  },
  {
   "cell_type": "code",
   "execution_count": null,
   "metadata": {},
   "outputs": [],
   "source": [
    "scn.instrument_view(\n",
    "    sample, cmap=\"magma\", vmax=2000.0 * sc.units.counts, norm=\"log\", pixel_size=0.03\n",
    ")"
   ]
  },
  {
   "cell_type": "markdown",
   "metadata": {},
   "source": [
    "This works for any file that can be loaded by Mantid that contains a valid instrument description or geometry:"
   ]
  },
  {
   "cell_type": "code",
   "execution_count": null,
   "metadata": {},
   "outputs": [],
   "source": [
    "gem_da = scn.load(scn.data.get_path('GEM40979.raw'))\n",
    "scn.instrument_view(gem_da, pixel_size=0.05)"
   ]
  },
  {
   "cell_type": "markdown",
   "metadata": {},
   "source": [
    "## Displaying additional components\n",
    "\n",
    "Additional beamline components can be displayed in the instrument view by providing a `dict` of component settings.\n",
    "The key for the component is used as the text label.\n",
    "Component settings are given as a settings dictionary defining, e.g., `color`, `size`, and `type`.\n",
    "\n",
    "First let us see what we could additionally plot:"
   ]
  },
  {
   "cell_type": "code",
   "execution_count": null,
   "metadata": {},
   "outputs": [],
   "source": [
    "gem_da"
   ]
  },
  {
   "cell_type": "markdown",
   "metadata": {},
   "source": [
    "We can see `source_position` and `sample_position` stored as 3d vectors.\n",
    "In this case we want to call our `source_position` *source*.\n",
    "We can pick from a limited number of `type`s including `cylinder`, `disk` and `box`:"
   ]
  },
  {
   "cell_type": "code",
   "execution_count": null,
   "metadata": {},
   "outputs": [],
   "source": [
    "sample_settings = {\n",
    "    'center': gem_da.meta['sample_position'],\n",
    "    'color': '#000000',\n",
    "    'wireframe': True,\n",
    "    'size': sc.vector(value=[0.5, 0.5, 0.5], unit=sc.units.m),\n",
    "    'type': 'box',\n",
    "}\n",
    "source_settings = {\n",
    "    'center': gem_da.meta['source_position'],\n",
    "    'color': '#FFC133',\n",
    "    'size': sc.vector(value=[1000, 2000, 1000], unit=sc.units.mm),\n",
    "    'type': 'cylinder',\n",
    "}\n",
    "scn.instrument_view(\n",
    "    gem_da,\n",
    "    pixel_size=0.05,\n",
    "    components={'sample': sample_settings, 'source': source_settings},\n",
    ")"
   ]
  },
  {
   "cell_type": "markdown",
   "metadata": {},
   "source": [
    "## Defining detector positions\n",
    "\n",
    "If data comes without pre-defined detector-positions, e.g., when they are not contained in the original file, they can be defined by simply adding a `position` coordinate a a data array:"
   ]
  },
  {
   "cell_type": "code",
   "execution_count": null,
   "metadata": {},
   "outputs": [],
   "source": [
    "nx, ny = (10, 10)\n",
    "points_x = np.linspace(0, 1, nx)\n",
    "points_y = np.linspace(0, 1, ny)\n",
    "xv, yv = np.meshgrid(points_x, points_y)\n",
    "\n",
    "_x = sc.array(dims=['spectrum'], values=xv.ravel())\n",
    "_y = sc.array(dims=['spectrum'], values=yv.ravel())\n",
    "_z = sc.array(dims=['spectrum'], values=np.zeros(100))\n",
    "\n",
    "data = sc.array(dims=['spectrum', 'tof'], values=np.arange(1000).reshape(100, 10))\n",
    "da = sc.DataArray(data)\n",
    "da.coords['position'] = sc.geometry.position(_x, _y, _z)\n",
    "da.coords['tof'] = sc.arange('tof', 0, 100, 10)\n",
    "da.coords['spectrum'] = sc.arange('spectrum', 100)\n",
    "\n",
    "scn.instrument_view(da, pixel_size=0.1)"
   ]
  }
 ],
 "metadata": {
  "kernelspec": {
   "display_name": "Python 3 (ipykernel)",
   "language": "python",
   "name": "python3"
  },
  "language_info": {
   "codemirror_mode": {
    "name": "ipython",
    "version": 3
   },
   "file_extension": ".py",
   "mimetype": "text/x-python",
   "name": "python",
   "nbconvert_exporter": "python",
   "pygments_lexer": "ipython3"
  }
 },
 "nbformat": 4,
 "nbformat_minor": 4
}
