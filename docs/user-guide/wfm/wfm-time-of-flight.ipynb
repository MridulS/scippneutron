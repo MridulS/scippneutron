{
 "cells": [
  {
   "cell_type": "markdown",
   "id": "8ec70539-7c3f-4a5e-adbd-0359f08328e3",
   "metadata": {},
   "source": [
    "# Computing time-of-flight for WFM data\n",
    "\n",
    "Wavelength-frame-multiplication (WFM) is a technique commonly used at long-pulse facilities to improve the resolution of the results measured at the neutron detectors.\n",
    "See for example the article by [Schmakat et al. (2020)](https://www.sciencedirect.com/science/article/pii/S0168900220308640) for a description of how WFM works.\n",
    "\n",
    "In this notebook, we show how to use Scippneutron's `tof` module to find the boundaries of the WFM frames, and apply a time correction to each frame,\n",
    "in order to obtain more accurate a time-of-flight coordinate, from which a wavelength can be computed."
   ]
  },
  {
   "cell_type": "code",
   "execution_count": null,
   "id": "b99c6293",
   "metadata": {},
   "outputs": [],
   "source": [
    "from datetime import timedelta\n",
    "import numpy as np\n",
    "import plopp as pp\n",
    "import scipp as sc\n",
    "import sciline as sl\n",
    "from scippneutron.chopper import DiskChopper\n",
    "from scippneutron.tof import unwrap\n",
    "from scippneutron.tof import chopper_cascade\n",
    "import tof"
   ]
  },
  {
   "cell_type": "markdown",
   "id": "782f8644",
   "metadata": {},
   "source": [
    "## Setting up the beamline\n",
    "\n",
    "### Creating the beamline choppers\n",
    "\n",
    "We begin by defining the chopper settings for our beamline.\n",
    "In principle, the chopper setting could simply be read from a NeXus file.\n",
    "\n",
    "For this example, we create choppers modeled on the [V20 ESS beamline at HZB](https://www.sciencedirect.com/science/article/pii/S0168900216309597).\n",
    "It consists of 4 choppers (for the sake of simplicity, we omit the pulse-overlap chopper):\n",
    "\n",
    "- 2 WFM choppers\n",
    "- 2 frame-overlap choppers\n",
    "\n",
    "All 4 choppers have 6 openings (also known as cutouts)."
   ]
  },
  {
   "cell_type": "code",
   "execution_count": null,
   "id": "f785046c-05a7-4030-a9af-fe9aee69812f",
   "metadata": {},
   "outputs": [],
   "source": [
    "wfm1 = DiskChopper(\n",
    "        frequency=sc.scalar(-70.0, unit=\"Hz\"),\n",
    "        beam_angle=sc.scalar(0.0, unit=\"deg\"),\n",
    "        phase=sc.scalar(-47.10, unit='deg'),\n",
    "        axle_position=sc.vector(value=[0, 0, 6.6], unit='m'),\n",
    "        slit_begin=sc.array(\n",
    "            dims=['cutout'],\n",
    "            values=np.array([83.71, 140.49, 193.26, 242.32, 287.91, 330.3]) + 15.0,\n",
    "            unit='deg',\n",
    "        ),\n",
    "        slit_end=sc.array(\n",
    "            dims=['cutout'],\n",
    "            values=np.array([94.7, 155.79, 212.56, 265.33, 314.37, 360.0]) + 15.0,\n",
    "            unit='deg',\n",
    "        ),\n",
    "        slit_height=sc.scalar(10., unit='cm'),\n",
    "        radius=sc.scalar(30., unit='cm'),\n",
    ")\n",
    "\n",
    "wfm2 = DiskChopper(\n",
    "        frequency=sc.scalar(-70.0, unit=\"Hz\"),\n",
    "        beam_angle=sc.scalar(0.0, unit=\"deg\"),\n",
    "        phase=sc.scalar(-76.76, unit='deg'),\n",
    "        axle_position=sc.vector(value=[0, 0, 7.1], unit='m'),\n",
    "        slit_begin=sc.array(\n",
    "            dims=['cutout'],\n",
    "            values=np.array([65.04, 126.1, 182.88, 235.67, 284.73, 330.32]) + 15.0,\n",
    "            unit='deg',\n",
    "        ),\n",
    "        slit_end=sc.array(\n",
    "            dims=['cutout'],\n",
    "            values=np.array([76.03, 141.4, 202.18, 254.97, 307.74, 360.0]) + 15.0,\n",
    "            unit='deg',\n",
    "        ),\n",
    "        slit_height=sc.scalar(10., unit='cm'),\n",
    "        radius=sc.scalar(30., unit='cm'),\n",
    ")\n",
    "\n",
    "foc1 = DiskChopper(\n",
    "        frequency=sc.scalar(-56.0, unit=\"Hz\"),\n",
    "        beam_angle=sc.scalar(0.0, unit=\"deg\"),\n",
    "        phase=sc.scalar(-62.40, unit='deg'),\n",
    "        axle_position=sc.vector(value=[0, 0, 8.8], unit='m'),\n",
    "        slit_begin=sc.array(\n",
    "            dims=['cutout'],\n",
    "            values=np.array([74.6, 139.6, 194.3, 245.3, 294.8, 347.2]),\n",
    "            unit='deg',\n",
    "        ),\n",
    "        slit_end=sc.array(\n",
    "            dims=['cutout'],\n",
    "            values=np.array([95.2, 162.8, 216.1, 263.1, 310.5, 371.6]),\n",
    "            unit='deg',\n",
    "        ),\n",
    "        slit_height=sc.scalar(10., unit='cm'),\n",
    "        radius=sc.scalar(30., unit='cm'),\n",
    ")\n",
    "\n",
    "foc2 = DiskChopper(\n",
    "        frequency=sc.scalar(-28.0, unit=\"Hz\"),\n",
    "        beam_angle=sc.scalar(0.0, unit=\"deg\"),\n",
    "        phase=sc.scalar(-12.27, unit='deg'),\n",
    "        axle_position=sc.vector(value=[0, 0, 15.9], unit='m'),\n",
    "        slit_begin=sc.array(\n",
    "            dims=['cutout'],\n",
    "            values=np.array([98.0, 154.0, 206.8, 255.0, 299.0, 344.65]),\n",
    "            unit='deg',\n",
    "        ),\n",
    "        slit_end=sc.array(\n",
    "            dims=['cutout'],\n",
    "            values=np.array([134.6, 190.06, 237.01, 280.88, 323.56, 373.76]),\n",
    "            unit='deg',\n",
    "        ),\n",
    "        slit_height=sc.scalar(10., unit='cm'),\n",
    "        radius=sc.scalar(30., unit='cm'),\n",
    ")\n",
    "\n",
    "disk_choppers = {'wfm1': wfm1, 'wfm2': wfm2, 'foc1': foc1, 'foc2': foc2}"
   ]
  },
  {
   "cell_type": "markdown",
   "id": "1d74f2fe-5878-4c07-b624-f3dd8e73b8f3",
   "metadata": {},
   "source": [
    "It is possible to visualize the properties of the choppers by inspecting their `repr`:"
   ]
  },
  {
   "cell_type": "code",
   "execution_count": null,
   "id": "faeebe29-c562-4936-aee7-65df42600f18",
   "metadata": {},
   "outputs": [],
   "source": [
    "wfm1"
   ]
  },
  {
   "cell_type": "markdown",
   "id": "7ad99594-e650-4e5b-abec-97d102f998b0",
   "metadata": {},
   "source": [
    "### Adding a detector\n",
    "\n",
    "We also have a detector, which we place 26 meters away from the source."
   ]
  },
  {
   "cell_type": "code",
   "execution_count": null,
   "id": "9983ece9-384b-4e45-b352-7e03153a85a8",
   "metadata": {},
   "outputs": [],
   "source": [
    "Ltotal = sc.scalar(26., unit='m')"
   ]
  },
  {
   "cell_type": "markdown",
   "id": "452987c2-83ba-4664-ac78-9cae02b80eef",
   "metadata": {},
   "source": [
    "### Convert the choppers\n",
    "\n",
    "Lastly, we convert our disk choppers to a simpler chopper representation used by the `chopper_cascade` module. "
   ]
  },
  {
   "cell_type": "code",
   "execution_count": null,
   "id": "17305a0c-3dd4-4a73-9571-ac9bc8f611e7",
   "metadata": {},
   "outputs": [],
   "source": [
    "choppers = {\n",
    "    key: chopper_cascade.Chopper.from_disk_chopper(\n",
    "             chop,\n",
    "             pulse_frequency=sc.scalar(14., unit='Hz'),\n",
    "             npulses=1\n",
    "         )\n",
    "    for key, chop in disk_choppers.items()\n",
    "}"
   ]
  },
  {
   "cell_type": "markdown",
   "id": "360be644-4c0d-4a0c-9497-af5a603cbfe1",
   "metadata": {},
   "source": [
    "## Creating some neutron events\n",
    "\n",
    "We create a semi-realistic set of neutron events based on the ESS pulse."
   ]
  },
  {
   "cell_type": "code",
   "execution_count": null,
   "id": "337fa2cc-e453-45a6-8cc4-af2ebb8e4bcf",
   "metadata": {},
   "outputs": [],
   "source": [
    "from scippneutron.tof.fakes import FakeBeamlineEss\n",
    "\n",
    "ess_beamline = FakeBeamlineEss(\n",
    "    choppers=choppers,\n",
    "        monitors={\"detector\": Ltotal},\n",
    "        run_length=sc.scalar(1/14, unit='s') * 14,\n",
    "        events_per_pulse=200_000)"
   ]
  },
  {
   "cell_type": "markdown",
   "id": "688248fb-d730-4242-a243-1d60c7395609",
   "metadata": {},
   "source": [
    "The initial birth times and wavelengths of the generated neutrons can be visualized (for a single pulse):"
   ]
  },
  {
   "cell_type": "code",
   "execution_count": null,
   "id": "9e2574c9-63d3-4246-99f1-49c64182582a",
   "metadata": {},
   "outputs": [],
   "source": [
    "one_pulse = ess_beamline.source.data['pulse', 0]\n",
    "one_pulse.hist(time=300).plot() + one_pulse.hist(wavelength=300).plot()"
   ]
  },
  {
   "cell_type": "markdown",
   "id": "53f658c2-9c1a-4564-8fea-10986c55240f",
   "metadata": {},
   "source": [
    "From this fake beamline, we extract the raw neutron signal at our detector:"
   ]
  },
  {
   "cell_type": "code",
   "execution_count": null,
   "id": "d8e865df-a7d6-438d-a1af-be0ae86cc857",
   "metadata": {},
   "outputs": [],
   "source": [
    "raw_data = ess_beamline.get_monitor(\"detector\")\n",
    "\n",
    "# Visualize\n",
    "raw_data.hist(event_time_offset=300).sum('pulse').plot()"
   ]
  },
  {
   "cell_type": "markdown",
   "id": "4fb2b69c-7fac-4b74-b477-7d0e7e548962",
   "metadata": {},
   "source": [
    "The total number of neutrons in our sample data that make it through the to detector is:"
   ]
  },
  {
   "cell_type": "code",
   "execution_count": null,
   "id": "d76094a2-308a-4bf4-98ef-8f35499769e2",
   "metadata": {},
   "outputs": [],
   "source": [
    "raw_data.sum().value"
   ]
  },
  {
   "cell_type": "markdown",
   "id": "43755616-c1ce-4218-9255-0a2a7405daf1",
   "metadata": {},
   "source": [
    "## Using the chopper cascade to chop the pulse\n",
    "\n",
    "The `chopper_cascade` module can now be used to chop a pulse of neutrons using the choppers created above."
   ]
  },
  {
   "cell_type": "markdown",
   "id": "a2ee8eee-f362-4f04-81e3-3f67c1f2f594",
   "metadata": {},
   "source": [
    "### Create a pulse of neutrons\n",
    "\n",
    "We then create a (fake) pulse of neutrons, whose time and wavelength ranges are close to that of our ESS pulse above:"
   ]
  },
  {
   "cell_type": "code",
   "execution_count": null,
   "id": "5989b73a-ab4d-4457-be9e-0cf7c21b24f5",
   "metadata": {},
   "outputs": [],
   "source": [
    "threshold = 0.01  # Select part of the pulse where signal is above 1% of max counts\n",
    "\n",
    "t = one_pulse.hist(time=300)\n",
    "tsel = t.data > a * t.data.max()\n",
    "pulse_times = sc.midpoints(t.coords['time'])[tsel]\n",
    "\n",
    "w = one_pulse.hist(wavelength=300)\n",
    "wsel = w.data > a * w.data.max()\n",
    "pulse_wavs = sc.midpoints(w.coords['wavelength'])[wsel]\n",
    "\n",
    "frames = chopper_cascade.FrameSequence.from_source_pulse(\n",
    "    time_min=pulse_times.min(),\n",
    "    time_max=pulse_times.max(),\n",
    "    wavelength_min=pulse_wavs.min(),\n",
    "    wavelength_max=pulse_wavs.max(),\n",
    ")"
   ]
  },
  {
   "cell_type": "markdown",
   "id": "acf99f15-f5e4-4be8-9874-edb14d5ae2e5",
   "metadata": {},
   "source": [
    "### Propagate the neutrons through the choppers\n",
    "\n",
    "We are now able to propagate the pulse of neutrons through the chopper cascade,\n",
    "chopping away the parts of the pulse that do not make it through.\n",
    "\n",
    "For this, we need to decide how far we want to propagate the neutrons, by choosing a distance to our detector.\n",
    "We set this to 32 meters here."
   ]
  },
  {
   "cell_type": "code",
   "execution_count": null,
   "id": "f63a803e-5017-454f-824b-5301cc43db49",
   "metadata": {},
   "outputs": [],
   "source": [
    "# Chop the frames\n",
    "frames = frames.chop(choppers.values())\n",
    "\n",
    "# Propagate the neutrons to the detector\n",
    "at_sample = frames.propagate_to(Ltotal)\n",
    "\n",
    "# Visualize the results\n",
    "cascade_fig, cascade_ax = at_sample.draw()"
   ]
  },
  {
   "cell_type": "markdown",
   "id": "b43590f0-e7e1-4456-8d0c-f7649466cff8",
   "metadata": {},
   "source": [
    "We can now see that at the detector (brown color), we have 6 sub-pulses of neutrons,\n",
    "where the longest wavelength of one frame is very close to the shortest wavelength of the next frame."
   ]
  },
  {
   "cell_type": "markdown",
   "id": "bcdbd7a1-1fb6-4497-be18-0318b803469f",
   "metadata": {},
   "source": [
    "## Computing the time-of-flight coordinate using Sciline\n",
    "\n",
    "### Setting up the workflow\n",
    "\n",
    "We will now construct a workflow to compute the `time-of-flight` coordinate from the neutron events above,\n",
    "taking into account the choppers in the beamline."
   ]
  },
  {
   "cell_type": "code",
   "execution_count": null,
   "id": "fdc82c8f-84c0-406f-bf2a-59a9207b74c2",
   "metadata": {},
   "outputs": [],
   "source": [
    "workflow = sl.Pipeline(\n",
    "    unwrap.unwrap_providers()\n",
    "    + unwrap.time_of_flight_providers()\n",
    "    + unwrap.time_of_flight_origin_from_choppers_providers(wfm=True)\n",
    ")\n",
    "\n",
    "workflow[unwrap.PulsePeriod] = sc.reciprocal(ess_beamline.source.frequency)\n",
    "workflow[unwrap.PulseStride] = None\n",
    "workflow[unwrap.SourceTimeRange] = pulse_times.min(), pulse_times.max()\n",
    "workflow[unwrap.SourceWavelengthRange] = pulse_wavs.min(), pulse_wavs.max()\n",
    "workflow[unwrap.Choppers] = choppers\n",
    "\n",
    "workflow[unwrap.Ltotal] = Ltotal\n",
    "\n",
    "workflow.visualize(unwrap.TofData)"
   ]
  },
  {
   "cell_type": "markdown",
   "id": "7006256d-dd27-48a9-baff-d30d042c8969",
   "metadata": {},
   "source": [
    "We see that we are still missing 2 parameters to compute `TofData`:\n",
    "\n",
    "- `WFMChopperNames`: the names of the WFM choppers\n",
    "- `RawData`: this is just the raw neutron events we created above"
   ]
  },
  {
   "cell_type": "code",
   "execution_count": null,
   "id": "229f148f-0d23-4acd-8297-722aff06da0c",
   "metadata": {},
   "outputs": [],
   "source": [
    "workflow[unwrap.WFMChopperNames] = ('wfm1', 'wfm2')\n",
    "workflow[unwrap.RawData] = raw_data"
   ]
  },
  {
   "cell_type": "markdown",
   "id": "204b617c-c30a-46e2-a5f3-d4d4d02bbe04",
   "metadata": {},
   "source": [
    "### Checking the frame bounds\n",
    "\n",
    "We can check that the bounds for the frames the workflow computes agrees with the chopper-cascade diagram"
   ]
  },
  {
   "cell_type": "code",
   "execution_count": null,
   "id": "c58c00d0-c303-47b3-b0ae-5d229d870fee",
   "metadata": {},
   "outputs": [],
   "source": [
    "bounds = workflow.compute(unwrap.SubframeBounds)\n",
    "bounds"
   ]
  },
  {
   "cell_type": "code",
   "execution_count": null,
   "id": "3fbd1334-307a-49a0-b56e-403eac2978e2",
   "metadata": {},
   "outputs": [],
   "source": [
    "for b in sc.collapse(bounds['time'], keep='bound').values():\n",
    "    cascade_ax.axvspan(b[0].to(unit='ms').value, b[1].to(unit='ms').value, color='gray', alpha=0.3, zorder=-5)\n",
    "\n",
    "cascade_fig"
   ]
  },
  {
   "attachments": {},
   "cell_type": "markdown",
   "id": "58e87f06-d498-4e81-bef4-04911546fec1",
   "metadata": {},
   "source": [
    "There should be one vertical band matching the extent of each brown polygon, which there is.\n",
    "\n",
    "### Computing a time-of-flight coordinate\n",
    "\n",
    "We will now use our workflow to obtain our event data with a time-of-flight coordinate:"
   ]
  },
  {
   "cell_type": "code",
   "execution_count": null,
   "id": "269157d7-3d3c-44bc-913b-340e240dc0d1",
   "metadata": {},
   "outputs": [],
   "source": [
    "tofs = workflow.compute(unwrap.TofData)"
   ]
  },
  {
   "cell_type": "markdown",
   "id": "4a2b00ec-0079-4597-813d-ffe8b16b2199",
   "metadata": {},
   "source": [
    "Histogramming the data for a plot should show a profile with 6 bumps that correspond to the frames:"
   ]
  },
  {
   "cell_type": "code",
   "execution_count": null,
   "id": "0f31581d-f3d2-4640-9066-d566656c049e",
   "metadata": {},
   "outputs": [],
   "source": [
    "edges = sc.linspace('tof', 0.005, 0.05, 300, unit='s')\n",
    "tofs.bins.concat().hist(tof=edges).plot()"
   ]
  },
  {
   "cell_type": "markdown",
   "id": "2f1cf329-bbb6-4065-8fe9-907a710707c6",
   "metadata": {},
   "source": [
    "### Converting to wavelength\n",
    "\n",
    "We can now convert our new time-of-flight coordinate to a neutron wavelength, using `tranform_coords`:"
   ]
  },
  {
   "cell_type": "code",
   "execution_count": null,
   "id": "cfb9bb6f-2733-4892-86bb-f2b51c494fca",
   "metadata": {},
   "outputs": [],
   "source": [
    "from scippneutron.conversion.graph.beamline import beamline\n",
    "from scippneutron.conversion.graph.tof import elastic\n",
    "\n",
    "# Perform coordinate transformation\n",
    "graph = {**beamline(scatter=False), **elastic(\"tof\")}\n",
    "wav_wfm = tofs.transform_coords(\"wavelength\", graph=graph)\n",
    "\n",
    "# Define wavelength bin edges\n",
    "wavs = sc.linspace('wavelength', 2, 10, 301, unit='angstrom')\n",
    "\n",
    "wav_wfm.hist(wavelength=wavs).sum('pulse').plot()"
   ]
  },
  {
   "cell_type": "markdown",
   "id": "ff145e21-5e2e-4ec4-95fc-e89143ef4f7a",
   "metadata": {},
   "source": [
    "### Comparing to the ground truth\n",
    "\n",
    "As a consistency check, because we actually know the wavelengths of the neutrons we created,\n",
    "we can compare the true neutron wavelengths to those we computed above."
   ]
  },
  {
   "cell_type": "code",
   "execution_count": null,
   "id": "0df686dd-0e96-49cc-b499-96ccaa5cf370",
   "metadata": {},
   "outputs": [],
   "source": [
    "ground_truth = ess_beamline.model_result['detector'].data.flatten(to='event')\n",
    "ground_truth = ground_truth[~ground_truth.masks['blocked_by_others']]\n",
    "\n",
    "pp.plot({'wfm': wav_wfm.hist(wavelength=wavs).sum('pulse'),\n",
    "         'ground_truth': ground_truth.hist(wavelength=wavs)})"
   ]
  }
 ],
 "metadata": {
  "kernelspec": {
   "display_name": "Python 3 (ipykernel)",
   "language": "python",
   "name": "python3"
  },
  "language_info": {
   "codemirror_mode": {
    "name": "ipython",
    "version": 3
   },
   "file_extension": ".py",
   "mimetype": "text/x-python",
   "name": "python",
   "nbconvert_exporter": "python",
   "pygments_lexer": "ipython3"
  }
 },
 "nbformat": 4,
 "nbformat_minor": 5
}
