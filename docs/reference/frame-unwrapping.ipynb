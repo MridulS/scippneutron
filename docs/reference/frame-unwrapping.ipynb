{
 "cells": [
  {
   "cell_type": "markdown",
   "id": "dcc5c0db-6295-4fe7-a951-881a22070be5",
   "metadata": {},
   "source": [
    "# Frame Unwrapping"
   ]
  },
  {
   "cell_type": "markdown",
   "id": "d8a53e78-18a6-43ab-8b92-5c9af76d004d",
   "metadata": {},
   "source": [
    "## Default"
   ]
  },
  {
   "cell_type": "markdown",
   "id": "d49bd748-0b48-427f-a20b-4b7524c86581",
   "metadata": {},
   "source": [
    "In this case there is a 1:1 correspondence between source pulses and neutron frames propagated to the sample and detectors."
   ]
  },
  {
   "cell_type": "code",
   "execution_count": null,
   "id": "5072cc02-36cd-47f0-887b-a58a0717cede",
   "metadata": {},
   "outputs": [],
   "source": [
    "from frameunwrapping import default_frames\n",
    "default_frames().show()"
   ]
  },
  {
   "cell_type": "markdown",
   "id": "aaf4cac3-6a54-44a2-95f7-a0518474589e",
   "metadata": {},
   "source": [
    "In the figure above, we define for a source frame (pulse) with index `i`\n",
    "\n",
    "- $T_0^i$ is the `event_time_zero` recorded in an `NXevent_data` group.\n",
    "  These times are indicated by the vertical dotted lines.\n",
    "- $T_0^{i+1} = T_0 + L_0$ with the frame length $L_0 = 1/f_0$ given by the source frequency $f_0$.\n",
    "- $\\Delta T_0$ is the offset from $T_0^i$ at which the neutrons are \"emitted\".\n",
    "  This may be zero if the full pulse length is used, but choppers such as resolution choppers may extract a section of the pulse that is not aligned with the start of the full pulse.\n",
    "  This offset can also be used to take into account a potential difference between the timing system's definition of the pulse time and the actual beginning of the neutron pulse exiting, e.g., the moderator.\n",
    "\n",
    "For every event recorded in a detector, `event_time_offset` ($\\Delta t$) in an `NXevent_data` group is the offset from the latest (previous) `event_time_zero` ($T_0^j$), i.e., the time difference to the previous vertical dotted line.\n",
    "\n",
    "To compute the time-of-flight for a neutron, we need to identify which source pulse it orginated from.\n",
    "Consider the wavelength band for frame `i`, i.e., neutrons produced by the second source pulse in the figure above:\n",
    "\n",
    "- The fastest neutrons from this frame reach detector 1 one frame later, i.e., the `event_time_offset` for those fast neutrons will be relative to $T_0^{i+1}$.\n",
    "- The slowest neutrons from this frame reach detector 1 two frames later, i.e., the `event_time_offset` for those fast neutrons will be relative to $T_0^{i+2}$.\n",
    "- The fastest neutrons from this frame reach detector 2 two frames later, i.e., the `event_time_offset` for those fast neutrons will be relative to $T_0^{i+2}$.\n",
    "- The slowest neutrons from this frame reach detector 2 three frames later, i.e., the `event_time_offset` for those fast neutrons will be relative to $T_0^{i+3}$.\n",
    "\n",
    "We thus need to add an integer multiple of the frame length to `event_time_offset`.\n",
    "Within a given frame (indicated above by an area between two dotted vertical lines) there is a *pivot point*:\n",
    "Neutrons with `event_time_offset` *below* the pivot point originated one source frame *before* neutrons *above* the pivot point.\n",
    "As illustrated in the figure, the pivot point $t_\\text{pivot}$ depends on the detector or rather the distance of the detector from the sample.\n",
    "\n",
    "The pivot point can be computed, e.g., by defining the minimum wavelength $\\lambda_{\\text{min}}$ that can propagate through the chopper cascade to reach a detector.\n",
    "The computation of the time-of-flight can then proceed as follows (see also illustration below):\n",
    "\n",
    "1. Given $\\lambda_\\text{min}$, we can compute the the corresponding $t_{\\text{min}}$ (`tof_min`), i.e., the time the fastest neutrons take from the source to the detector.\n",
    "   `tof_min` is detector-dependent.\n",
    "2. The pivot time `time_offset_pivot` is computed as $t_\\text{pivot} = (\\Delta T_0 + t_{\\text{min}})\\mod L_0$.\n",
    "3. The time-of-flight $t_\\text{tof}$ is computed as\n",
    "   $$\n",
    "   t_{\\text{tof}} =  t_{\\text{min}} - t_\\text{pivot} +\\Delta t + \n",
    "       \\begin{cases}\n",
    "       L_0, & \\text{for } \\Delta t \\lt t_\\text{pivot}\\\\\n",
    "       0, & \\text{for } \\Delta t \\ge t_\\text{pivot}\n",
    "       \\end{cases}\n",
    "   $$"
   ]
  },
  {
   "cell_type": "code",
   "execution_count": null,
   "id": "66353e3c-ef2c-409f-a965-3478b035fdb3",
   "metadata": {},
   "outputs": [],
   "source": [
    "from scippneutron.tof import frames\n",
    "import scipp as sc\n",
    "sc.show_graph(frames.to_tof(), simplified=True)"
   ]
  },
  {
   "cell_type": "markdown",
   "id": "48fea35f-7813-43ac-89ad-9066826c49a2",
   "metadata": {},
   "source": [
    "## Wavelength-frame multiplication"
   ]
  },
  {
   "cell_type": "markdown",
   "id": "4b532f66-9119-4e65-8827-1ed2f4dcfbd0",
   "metadata": {},
   "source": [
    "## Pulse-skipping"
   ]
  }
 ],
 "metadata": {
  "kernelspec": {
   "display_name": "Python 3 (ipykernel)",
   "language": "python",
   "name": "python3"
  },
  "language_info": {
   "codemirror_mode": {
    "name": "ipython",
    "version": 3
   },
   "file_extension": ".py",
   "mimetype": "text/x-python",
   "name": "python",
   "nbconvert_exporter": "python",
   "pygments_lexer": "ipython3"
  }
 },
 "nbformat": 4,
 "nbformat_minor": 5
}
