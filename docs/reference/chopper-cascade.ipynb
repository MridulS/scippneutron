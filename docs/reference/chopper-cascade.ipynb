{
 "cells": [
  {
   "cell_type": "markdown",
   "metadata": {},
   "source": [
    "# Chopper Cascades"
   ]
  },
  {
   "cell_type": "code",
   "execution_count": null,
   "metadata": {},
   "outputs": [],
   "source": [
    "%matplotlib widget\n",
    "from scippneutron.tof import chopper_cascade\n",
    "import scipp as sc"
   ]
  },
  {
   "cell_type": "markdown",
   "metadata": {},
   "source": [
    "As an example, consider the WFM chopper cascade from [the tof package documentation](https://tof.readthedocs.io/en/stable/short-example.html):"
   ]
  },
  {
   "cell_type": "code",
   "execution_count": null,
   "metadata": {},
   "outputs": [],
   "source": [
    "wfm1 = chopper_cascade.Chopper(\n",
    "    distance=sc.scalar(6.6, unit='m'),\n",
    "    time_open=sc.array(\n",
    "        dims=('cutout',),\n",
    "        values=[\n",
    "            -0.008500,\n",
    "            -0.006246,\n",
    "            -0.004152,\n",
    "            -0.002206,\n",
    "            -0.000396,\n",
    "            0.001286,\n",
    "            0.005786,\n",
    "            0.008039,\n",
    "            0.010133,\n",
    "            0.012080,\n",
    "            0.013889,\n",
    "            0.015571,\n",
    "        ],\n",
    "        unit='s',\n",
    "    ),\n",
    "    time_close=sc.array(\n",
    "        dims=('cutout',),\n",
    "        values=[\n",
    "            -0.008063,\n",
    "            -0.005639,\n",
    "            -0.003387,\n",
    "            -0.001292,\n",
    "            0.000654,\n",
    "            0.002464,\n",
    "            0.006222,\n",
    "            0.008646,\n",
    "            0.010899,\n",
    "            0.012993,\n",
    "            0.014939,\n",
    "            0.016750,\n",
    "        ],\n",
    "        unit='s',\n",
    "    ),\n",
    ")\n",
    "wfm2 = chopper_cascade.Chopper(\n",
    "    distance=sc.scalar(7.1, unit='m'),\n",
    "    time_open=sc.array(\n",
    "        dims=('cutout',),\n",
    "        values=[\n",
    "            -0.008063,\n",
    "            -0.005640,\n",
    "            -0.003387,\n",
    "            -0.001292,\n",
    "            0.000654,\n",
    "            0.002451,\n",
    "            0.006222,\n",
    "            0.008645,\n",
    "            0.010898,\n",
    "            0.012993,\n",
    "            0.014940,\n",
    "            0.016737,\n",
    "        ],\n",
    "        unit='s',\n",
    "    ),\n",
    "    time_close=sc.array(\n",
    "        dims=('cutout',),\n",
    "        values=[\n",
    "            -0.007627,\n",
    "            -0.005033,\n",
    "            -0.002621,\n",
    "            -0.000527,\n",
    "            0.001567,\n",
    "            0.003641,\n",
    "            0.006658,\n",
    "            0.009252,\n",
    "            0.011664,\n",
    "            0.013759,\n",
    "            0.015853,\n",
    "            0.017927,\n",
    "        ],\n",
    "        unit='s',\n",
    "    ),\n",
    ")\n",
    "frame_overlap_1 = chopper_cascade.Chopper(\n",
    "    distance=sc.scalar(8.8, unit='m'),\n",
    "    time_open=sc.array(\n",
    "        dims=('cutout',),\n",
    "        values=[\n",
    "            -0.011062,\n",
    "            -0.007837,\n",
    "            -0.005124,\n",
    "            -0.002594,\n",
    "            -0.000139,\n",
    "            0.002460,\n",
    "            0.006796,\n",
    "            0.010020,\n",
    "            0.012733,\n",
    "            0.015263,\n",
    "            0.017718,\n",
    "            0.020317,\n",
    "        ],\n",
    "        unit='s',\n",
    "    ),\n",
    "    time_close=sc.array(\n",
    "        dims=('cutout',),\n",
    "        values=[\n",
    "            -0.010040,\n",
    "            -0.006687,\n",
    "            -0.004043,\n",
    "            -0.001711,\n",
    "            0.000640,\n",
    "            0.003671,\n",
    "            0.007817,\n",
    "            0.011171,\n",
    "            0.013814,\n",
    "            0.016146,\n",
    "            0.018497,\n",
    "            0.021528,\n",
    "        ],\n",
    "        unit='s',\n",
    "    ),\n",
    ")\n",
    "frame_overlap_2 = chopper_cascade.Chopper(\n",
    "    distance=sc.scalar(15.9, unit='m'),\n",
    "    time_open=sc.array(\n",
    "        dims=('cutout',),\n",
    "        values=[\n",
    "            -0.024775,\n",
    "            -0.019219,\n",
    "            -0.013981,\n",
    "            -0.009299,\n",
    "            -0.004834,\n",
    "            -0.000306,\n",
    "            0.010939,\n",
    "            0.016495,\n",
    "            0.021733,\n",
    "            0.026416,\n",
    "            0.030880,\n",
    "            0.035409,\n",
    "        ],\n",
    "        unit='s',\n",
    "    ),\n",
    "    time_close=sc.array(\n",
    "        dims=('cutout',),\n",
    "        values=[\n",
    "            -0.021144,\n",
    "            -0.015642,\n",
    "            -0.010984,\n",
    "            -0.006632,\n",
    "            -0.002398,\n",
    "            0.002582,\n",
    "            0.014570,\n",
    "            0.020072,\n",
    "            0.024730,\n",
    "            0.029082,\n",
    "            0.033316,\n",
    "            0.038297,\n",
    "        ],\n",
    "        unit='s',\n",
    "    ),\n",
    ")\n",
    "pulse_overlap = chopper_cascade.Chopper(\n",
    "    distance=sc.scalar(22.0, unit='m'),\n",
    "    time_open=sc.array(dims=('cutout',), values=[-0.130952, 0.011905], unit='s'),\n",
    "    time_close=sc.array(dims=('cutout',), values=[-0.087302, 0.055556], unit='s'),\n",
    ")"
   ]
  },
  {
   "cell_type": "code",
   "execution_count": null,
   "metadata": {},
   "outputs": [],
   "source": [
    "choppers = [wfm1, wfm2, frame_overlap_1, frame_overlap_2, pulse_overlap]"
   ]
  },
  {
   "cell_type": "code",
   "execution_count": null,
   "metadata": {},
   "outputs": [],
   "source": [
    "frames = chopper_cascade.FrameSequence.from_source_pulse(\n",
    "    time_min=sc.scalar(0.0, unit='ms'),\n",
    "    time_max=sc.scalar(4.0, unit='ms'),\n",
    "    wavelength_min=sc.scalar(0.01, unit='angstrom'),\n",
    "    wavelength_max=sc.scalar(10.0, unit='angstrom'),\n",
    ")\n",
    "frames = frames.chop(choppers)\n",
    "at_sample = frames.propagate_to(sc.scalar(26.0, unit='m'))\n",
    "\n",
    "at_sample.draw()"
   ]
  },
  {
   "cell_type": "markdown",
   "metadata": {},
   "source": [
    "We can also draw a chopper acceptance diagram, which is essentially the same as above, but propagated back to the source pulse distance:"
   ]
  },
  {
   "cell_type": "code",
   "execution_count": null,
   "metadata": {},
   "outputs": [],
   "source": [
    "frames.acceptance_diagram()"
   ]
  },
  {
   "cell_type": "markdown",
   "metadata": {},
   "source": [
    "## Frame unwrapping\n",
    "\n",
    "For unwrapping frames, we need the bounds of the entire from, to determine times at which to cut.\n",
    "Since $L_2$ can be different for every detector, this cutting time is different for every detector.\n",
    "We can compute the frame bounds at a common distance, e.g., the sample, and propagate the bounds to the detectors:"
   ]
  },
  {
   "cell_type": "code",
   "execution_count": null,
   "metadata": {},
   "outputs": [],
   "source": [
    "bounds = at_sample[-1].bounds()\n",
    "chopper_cascade.propagate_times(\n",
    "    time=bounds['time'],\n",
    "    wavelength=bounds['wavelength'],\n",
    "    distance=sc.linspace('L2', 1.0, 2.0, 100, unit='m'),\n",
    ")"
   ]
  },
  {
   "cell_type": "markdown",
   "metadata": {},
   "source": [
    "For WFM, we need to compute subframe time cutting points.\n",
    "Again, $L_2$ can be different for every detector, so we need to compute the cutting points for every detector:"
   ]
  },
  {
   "cell_type": "code",
   "execution_count": null,
   "metadata": {},
   "outputs": [],
   "source": [
    "bounds = at_sample[-1].subbounds()\n",
    "bounds"
   ]
  },
  {
   "cell_type": "code",
   "execution_count": null,
   "metadata": {},
   "outputs": [],
   "source": [
    "chopper_cascade.propagate_times(\n",
    "    time=bounds['time'],\n",
    "    wavelength=bounds['wavelength'],\n",
    "    distance=sc.linspace('L2', 1.0, 2.0, 100, unit='m'),\n",
    ")"
   ]
  },
  {
   "cell_type": "markdown",
   "metadata": {},
   "source": [
    "Note that subframes may in principle overlap, and this may depend on the detector.\n",
    "We therefore call `subframe_bounds` at a common location and propagate the result, otherwise we would get a different number of subframes for different detectors."
   ]
  }
 ],
 "metadata": {
  "kernelspec": {
   "display_name": "dev310",
   "language": "python",
   "name": "python3"
  },
  "language_info": {
   "codemirror_mode": {
    "name": "ipython",
    "version": 3
   },
   "file_extension": ".py",
   "mimetype": "text/x-python",
   "name": "python",
   "nbconvert_exporter": "python",
   "pygments_lexer": "ipython3",
   "version": "3.8.16"
  }
 },
 "nbformat": 4,
 "nbformat_minor": 2
}
