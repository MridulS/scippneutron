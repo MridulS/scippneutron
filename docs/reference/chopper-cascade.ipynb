{
 "cells": [
  {
   "cell_type": "markdown",
   "metadata": {},
   "source": [
    "# Chopper Cascade\n",
    "\n",
    "The following is for testing purposes.\n",
    "We copy code from the `tof` docs, convert the choppers, and compare results:"
   ]
  },
  {
   "cell_type": "code",
   "execution_count": null,
   "metadata": {},
   "outputs": [],
   "source": [
    "%matplotlib widget\n",
    "from scippneutron.tof import chopper_cascade\n",
    "import scipp as sc\n",
    "\n",
    "\n",
    "def wavelength_to_inverse_velocity(wavelength):\n",
    "    h = sc.constants.h\n",
    "    m_n = sc.constants.m_n\n",
    "    return (wavelength * m_n / h).to(unit='s/m')"
   ]
  },
  {
   "cell_type": "code",
   "execution_count": null,
   "metadata": {},
   "outputs": [],
   "source": [
    "import tof"
   ]
  },
  {
   "cell_type": "code",
   "execution_count": null,
   "metadata": {},
   "outputs": [],
   "source": [
    "Hz = sc.Unit('Hz')\n",
    "deg = sc.Unit('deg')\n",
    "meter = sc.Unit('m')\n",
    "choppers = [\n",
    "    tof.Chopper(\n",
    "        frequency=70.0 * Hz,\n",
    "        open=sc.array(\n",
    "            dims=['cutout'],\n",
    "            values=[98.71, 155.49, 208.26, 257.32, 302.91, 345.3],\n",
    "            unit='deg',\n",
    "        ),\n",
    "        close=sc.array(\n",
    "            dims=['cutout'],\n",
    "            values=[109.7, 170.79, 227.56, 280.33, 329.37, 375.0],\n",
    "            unit='deg',\n",
    "        ),\n",
    "        phase=47.10 * deg,\n",
    "        distance=6.6 * meter,\n",
    "        name=\"WFM1\",\n",
    "    ),\n",
    "    tof.Chopper(\n",
    "        frequency=70 * Hz,\n",
    "        open=sc.array(\n",
    "            dims=['cutout'],\n",
    "            values=[80.04, 141.1, 197.88, 250.67, 299.73, 345.0],\n",
    "            unit='deg',\n",
    "        ),\n",
    "        close=sc.array(\n",
    "            dims=['cutout'],\n",
    "            values=[91.03, 156.4, 217.18, 269.97, 322.74, 375.0],\n",
    "            unit='deg',\n",
    "        ),\n",
    "        phase=76.76 * deg,\n",
    "        distance=7.1 * meter,\n",
    "        name=\"WFM2\",\n",
    "    ),\n",
    "    tof.Chopper(\n",
    "        frequency=56 * Hz,\n",
    "        open=sc.array(\n",
    "            dims=['cutout'],\n",
    "            values=[74.6, 139.6, 194.3, 245.3, 294.8, 347.2],\n",
    "            unit='deg',\n",
    "        ),\n",
    "        close=sc.array(\n",
    "            dims=['cutout'],\n",
    "            values=[95.2, 162.8, 216.1, 263.1, 310.5, 371.6],\n",
    "            unit='deg',\n",
    "        ),\n",
    "        phase=62.40 * deg,\n",
    "        distance=8.8 * meter,\n",
    "        name=\"Frame-overlap 1\",\n",
    "    ),\n",
    "    tof.Chopper(\n",
    "        frequency=28 * Hz,\n",
    "        open=sc.array(\n",
    "            dims=['cutout'],\n",
    "            values=[98.0, 154.0, 206.8, 254.0, 299.0, 344.65],\n",
    "            unit='deg',\n",
    "        ),\n",
    "        close=sc.array(\n",
    "            dims=['cutout'],\n",
    "            values=[134.6, 190.06, 237.01, 280.88, 323.56, 373.76],\n",
    "            unit='deg',\n",
    "        ),\n",
    "        phase=12.27 * deg,\n",
    "        distance=15.9 * meter,\n",
    "        name=\"Frame-overlap 2\",\n",
    "    ),\n",
    "    tof.Chopper(\n",
    "        frequency=7 * Hz,\n",
    "        open=sc.array(\n",
    "            dims=['cutout'],\n",
    "            values=[30.0],\n",
    "            unit='deg',\n",
    "        ),\n",
    "        close=sc.array(\n",
    "            dims=['cutout'],\n",
    "            values=[140.0],\n",
    "            unit='deg',\n",
    "        ),\n",
    "        phase=0 * deg,\n",
    "        distance=22 * meter,\n",
    "        name=\"Pulse-overlap\",\n",
    "    ),\n",
    "]"
   ]
  },
  {
   "cell_type": "code",
   "execution_count": null,
   "metadata": {},
   "outputs": [],
   "source": [
    "source = tof.Source(facility='ess', neutrons=10_000_000)\n",
    "source"
   ]
  },
  {
   "cell_type": "code",
   "execution_count": null,
   "metadata": {},
   "outputs": [],
   "source": [
    "detectors = [\n",
    "    tof.Detector(distance=26.0 * meter, name='monitor'),\n",
    "    tof.Detector(distance=32.0 * meter, name='detector'),\n",
    "]"
   ]
  },
  {
   "cell_type": "code",
   "execution_count": null,
   "metadata": {},
   "outputs": [],
   "source": [
    "model = tof.Model(source=source, choppers=choppers, detectors=detectors)\n",
    "model"
   ]
  },
  {
   "cell_type": "code",
   "execution_count": null,
   "metadata": {},
   "outputs": [],
   "source": [
    "res = model.run()\n",
    "res"
   ]
  },
  {
   "cell_type": "code",
   "execution_count": null,
   "metadata": {},
   "outputs": [],
   "source": [
    "def from_tof_chopper(chopper: tof.Chopper) -> chopper_cascade.Chopper:\n",
    "    \"\"\"Convert a chopper from the tof package to a chopper for the chopper-cascade package.\"\"\"\n",
    "    return chopper_cascade.Chopper(\n",
    "        distance=chopper.distance,\n",
    "        time_open=chopper.open_close_times()[0].to(unit='s'),\n",
    "        time_close=chopper.open_close_times()[1].to(unit='s'),\n",
    "    )\n",
    "\n",
    "\n",
    "choppers = [from_tof_chopper(chopper) for chopper in choppers]"
   ]
  },
  {
   "cell_type": "code",
   "execution_count": null,
   "metadata": {},
   "outputs": [],
   "source": [
    "# Other examples (unused):\n",
    "# pulse_overlap = chopper_cascade.Chopper(\n",
    "#     distance=sc.scalar(22.0, unit='m'),\n",
    "#     time_open=sc.scalar(0.0119, unit='s'),\n",
    "#     time_close=sc.scalar(0.05555, unit='s'),\n",
    "# )\n",
    "#\n",
    "# chopper = chopper_cascade.Chopper(\n",
    "#     distance=sc.scalar(8.0, unit='m'),\n",
    "#     time_open=sc.array(dims=['slit'], values=[0.0083333, 0.013888], unit='s'),\n",
    "#     time_close=sc.array(dims=['slit'], values=[0.011111, 0.022222], unit='s'),\n",
    "# )\n",
    "\n",
    "time = sc.array(dims=['vertex'], values=[0.0, 5, 5, 0], unit='ms').to(unit='s')\n",
    "wavelength = sc.array(dims=['vertex'], values=[0.01, 0.01, 10, 10], unit='angstrom')\n",
    "\n",
    "frames = [\n",
    "    chopper_cascade.Frame(\n",
    "        distance=sc.scalar(0.0, unit='m'),\n",
    "        subframes=[\n",
    "            chopper_cascade.Subframe(\n",
    "                time=time, inverse_velocity=wavelength_to_inverse_velocity(wavelength)\n",
    "            )\n",
    "        ],\n",
    "    )\n",
    "]\n",
    "\n",
    "for chopper in choppers:\n",
    "    frames.append(chopper_cascade.chop(frames[-1], chopper))\n",
    "frames.append(chopper_cascade.propagate(frames[-1], distance=sc.scalar(26.0, unit='m')))\n",
    "\n",
    "# chopper_cascade.draw_matplotlib(frames)"
   ]
  },
  {
   "cell_type": "code",
   "execution_count": null,
   "metadata": {},
   "outputs": [],
   "source": [
    "fig2, ax2 = chopper_cascade.draw_matplotlib(frames)\n",
    "fig1 = res.detectors['monitor'].tofs.plot(bins=2000)\n",
    "\n",
    "# Extract line data from fig1\n",
    "line1 = fig1.ax.lines[0]\n",
    "xdata1, ydata1 = line1.get_data()\n",
    "ax2.plot(xdata1 / 1e6, ydata1 > 0)\n",
    "fig2.set_size_inches(14, 6)\n",
    "fig2.tight_layout()"
   ]
  },
  {
   "cell_type": "markdown",
   "metadata": {},
   "source": [
    "Note the agreement between the purple polygons and the blue line."
   ]
  }
 ],
 "metadata": {
  "kernelspec": {
   "display_name": "dev310",
   "language": "python",
   "name": "python3"
  },
  "language_info": {
   "codemirror_mode": {
    "name": "ipython",
    "version": 3
   },
   "file_extension": ".py",
   "mimetype": "text/x-python",
   "name": "python",
   "nbconvert_exporter": "python",
   "pygments_lexer": "ipython3",
   "version": "3.8.16"
  }
 },
 "nbformat": 4,
 "nbformat_minor": 2
}
