{
 "cells": [
  {
   "cell_type": "code",
   "execution_count": null,
   "metadata": {},
   "outputs": [],
   "source": [
    "from scippneutron.tof import unwrap\n",
    "from scippneutron.tof.unwrap import (\n",
    "    RawData,\n",
    "    PulsePeriod,\n",
    "    SourceTimeRange,\n",
    "    SourceWavelengthRange,\n",
    "    Choppers,\n",
    "    SourceChopperName,\n",
    "    L1,\n",
    "    L2,\n",
    "    TofData,\n",
    "    PulseStride,\n",
    "    FirstPulseTime,\n",
    ")"
   ]
  },
  {
   "cell_type": "markdown",
   "metadata": {},
   "source": [
    "## Normal"
   ]
  },
  {
   "cell_type": "code",
   "execution_count": null,
   "metadata": {},
   "outputs": [],
   "source": [
    "import scipp as sc\n",
    "import sciline as sl\n",
    "\n",
    "pl = sl.Pipeline(unwrap.providers_normal_mode)\n",
    "pl[RawData] = sc.DataArray(data=sc.ones(dims=['event_time_offset'], shape=[1000]))\n",
    "pl[PulsePeriod] = sc.scalar(71.0, unit='ms')\n",
    "pl[SourceTimeRange] = sc.scalar(0.0, unit='ms'), sc.scalar(4.0, unit='ms')\n",
    "pl[SourceWavelengthRange] = sc.scalar(0.0, unit='angstrom'), sc.scalar(\n",
    "    10.0, unit='angstrom'\n",
    ")\n",
    "pl[Choppers] = {}\n",
    "pl[SourceChopperName] = 'PSC1'\n",
    "pl[L1] = sc.scalar(20.0, unit='m')\n",
    "pl[L2] = sc.scalar(1.0, unit='m')\n",
    "pl.get(TofData).visualize()"
   ]
  },
  {
   "cell_type": "markdown",
   "metadata": {},
   "source": [
    "## Pulse-skipping mode\n",
    "\n",
    "Note that chopper open- and close- times must be relative to the frame start, so in practice creating the choppers will also require info such as `FirstPulseTime` or something related."
   ]
  },
  {
   "cell_type": "code",
   "execution_count": null,
   "metadata": {},
   "outputs": [],
   "source": [
    "import sciline as sl\n",
    "\n",
    "pl = sl.Pipeline(unwrap.providers_pulse_skipping_mode)\n",
    "pl[RawData] = sc.DataArray(data=sc.ones(dims=['event_time_offset'], shape=[1000]))\n",
    "pl[PulsePeriod] = sc.scalar(71.0, unit='ms')\n",
    "pl[PulseStride] = 2\n",
    "pl[SourceTimeRange] = sc.scalar(0.0, unit='ms'), sc.scalar(4.0, unit='ms')\n",
    "pl[SourceWavelengthRange] = sc.scalar(0.0, unit='angstrom'), sc.scalar(\n",
    "    10.0, unit='angstrom'\n",
    ")\n",
    "pl[Choppers] = {}\n",
    "pl[SourceChopperName] = 'PSC1'\n",
    "pl[L1] = sc.scalar(20.0, unit='m')\n",
    "pl[L2] = sc.scalar(1.0, unit='m')\n",
    "pl[FirstPulseTime] = sc.scalar(0.0, unit='ms')\n",
    "# pl.get(unwrap.WrappedTimeOffset).visualize()\n",
    "# pl.get(unwrap.TimeOffset).visualize()\n",
    "pl.get(TofData).visualize()"
   ]
  },
  {
   "cell_type": "markdown",
   "metadata": {},
   "source": [
    "## WFM"
   ]
  },
  {
   "cell_type": "code",
   "execution_count": null,
   "metadata": {},
   "outputs": [],
   "source": [
    "import sciline as sl\n",
    "\n",
    "pl = sl.Pipeline(unwrap.providers_wfm)\n",
    "pl[RawData] = sc.DataArray(data=sc.ones(dims=['event_time_offset'], shape=[1000]))\n",
    "pl[PulsePeriod] = sc.scalar(71.0, unit='ms')\n",
    "pl[SourceTimeRange] = sc.scalar(0.0, unit='ms'), sc.scalar(4.0, unit='ms')\n",
    "pl[SourceWavelengthRange] = sc.scalar(0.0, unit='angstrom'), sc.scalar(\n",
    "    10.0, unit='angstrom'\n",
    ")\n",
    "pl[Choppers] = {}\n",
    "pl[SourceChopperName] = 'PSC1'\n",
    "pl[L1] = sc.scalar(20.0, unit='m')\n",
    "pl[L2] = sc.scalar(1.0, unit='m')\n",
    "# pl.get(unwrap.WrappedTimeOffset).visualize()\n",
    "# pl.get(unwrap.TimeOffset).visualize()\n",
    "pl.get(TofData).visualize()"
   ]
  },
  {
   "cell_type": "code",
   "execution_count": null,
   "metadata": {},
   "outputs": [],
   "source": [
    "import scipp as sc\n",
    "\n",
    "nevent = int(1e7)\n",
    "npix = int(1e6)\n",
    "table = sc.data.table_xyz(nevent)\n",
    "da = table.bin(x=npix)\n",
    "y_bins = sc.array(dims=['y'], values=[0.0, 0.1, 0.2, 0.4, 0.8, 1], unit='m')\n",
    "hist = sc.DataArray(sc.ones(dims=['y'], shape=[5], unit='m'), coords={'y': y_bins})\n",
    "# hist = sc.concat([hist]*npix, 'x')\n",
    "lut = sc.lookup(hist, dim='y')"
   ]
  },
  {
   "cell_type": "code",
   "execution_count": null,
   "metadata": {},
   "outputs": [],
   "source": [
    "%%time\n",
    "y = da.bins.coords['y']\n",
    "y -= lut[y]"
   ]
  },
  {
   "cell_type": "code",
   "execution_count": null,
   "metadata": {},
   "outputs": [],
   "source": [
    "%%time\n",
    "comps = da.bins.constituents\n",
    "#comps['data'] = comps['data'].copy(deep=False)\n",
    "comps['data'] = sc.DataArray(comps['data'].data, coords={'y':comps['data'].coords['y']})\n",
    "tmp = sc.DataArray(sc.bins(**comps))\n",
    "tmp.bins *= lut\n",
    "tmp"
   ]
  },
  {
   "cell_type": "code",
   "execution_count": null,
   "metadata": {},
   "outputs": [],
   "source": [
    "%%time\n",
    "tmp = da.bin(y=y_bins)\n",
    "tmp.bins.coords['y'] *= hist.data\n",
    "tmp.bins.concat('y')"
   ]
  }
 ],
 "metadata": {
  "kernelspec": {
   "display_name": "dev310",
   "language": "python",
   "name": "python3"
  },
  "language_info": {
   "codemirror_mode": {
    "name": "ipython",
    "version": 3
   },
   "file_extension": ".py",
   "mimetype": "text/x-python",
   "name": "python",
   "nbconvert_exporter": "python",
   "pygments_lexer": "ipython3",
   "version": "3.10.12"
  }
 },
 "nbformat": 4,
 "nbformat_minor": 2
}
