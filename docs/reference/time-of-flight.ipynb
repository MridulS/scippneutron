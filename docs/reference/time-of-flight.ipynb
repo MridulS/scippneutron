{
 "cells": [
  {
   "cell_type": "code",
   "execution_count": null,
   "metadata": {},
   "outputs": [],
   "source": [
    "from scippneutron.tof import unwrap\n",
    "from scippneutron.tof.unwrap import (\n",
    "    RawData,\n",
    "    PulsePeriod,\n",
    "    SourceTimeRange,\n",
    "    SourceWavelengthRange,\n",
    "    Choppers,\n",
    "    SourceChopperName,\n",
    "    Ltotal,\n",
    "    TofData,\n",
    "    PulseStride,\n",
    "    FirstPulseTime,\n",
    ")"
   ]
  },
  {
   "cell_type": "markdown",
   "metadata": {},
   "source": [
    "## Normal"
   ]
  },
  {
   "cell_type": "code",
   "execution_count": null,
   "metadata": {},
   "outputs": [],
   "source": [
    "import scipp as sc\n",
    "import sciline as sl\n",
    "\n",
    "pl = sl.Pipeline(unwrap.providers())\n",
    "pl[RawData] = sc.DataArray(data=sc.ones(dims=['event_time_offset'], shape=[1000]))\n",
    "pl[PulsePeriod] = sc.scalar(71.0, unit='ms')\n",
    "pl[SourceTimeRange] = sc.scalar(0.0, unit='ms'), sc.scalar(4.0, unit='ms')\n",
    "pl[SourceWavelengthRange] = sc.scalar(0.0, unit='angstrom'), sc.scalar(\n",
    "    10.0, unit='angstrom'\n",
    ")\n",
    "pl[Choppers] = {}\n",
    "pl[SourceChopperName] = 'PSC1'\n",
    "pl[Ltotal] = sc.scalar(21.0, unit='m')\n",
    "pl.get(TofData).visualize()"
   ]
  },
  {
   "cell_type": "markdown",
   "metadata": {},
   "source": [
    "## Pulse-skipping mode\n",
    "\n",
    "Note that chopper open- and close- times must be relative to the frame start, so in practice creating the choppers will also require info such as `FirstPulseTime` or something related."
   ]
  },
  {
   "cell_type": "code",
   "execution_count": null,
   "metadata": {},
   "outputs": [],
   "source": [
    "import sciline as sl\n",
    "\n",
    "pl = sl.Pipeline(unwrap.providers(pulse_skipping=True))\n",
    "pl[RawData] = sc.DataArray(data=sc.ones(dims=['event_time_offset'], shape=[1000]))\n",
    "pl[PulsePeriod] = sc.scalar(71.0, unit='ms')\n",
    "pl[PulseStride] = 2\n",
    "pl[SourceTimeRange] = sc.scalar(0.0, unit='ms'), sc.scalar(4.0, unit='ms')\n",
    "pl[SourceWavelengthRange] = sc.scalar(0.0, unit='angstrom'), sc.scalar(\n",
    "    10.0, unit='angstrom'\n",
    ")\n",
    "pl[Choppers] = {}\n",
    "pl[SourceChopperName] = 'PSC1'\n",
    "pl[Ltotal] = sc.scalar(21.0, unit='m')\n",
    "pl[FirstPulseTime] = sc.scalar(0.0, unit='ms')\n",
    "pl.get(TofData).visualize()"
   ]
  },
  {
   "cell_type": "markdown",
   "metadata": {},
   "source": [
    "## WFM"
   ]
  },
  {
   "cell_type": "code",
   "execution_count": null,
   "metadata": {},
   "outputs": [],
   "source": [
    "import sciline as sl\n",
    "\n",
    "pl = sl.Pipeline(unwrap.providers(pulse_skipping=False, wfm=True))\n",
    "pl[RawData] = sc.DataArray(data=sc.ones(dims=['event_time_offset'], shape=[1000]))\n",
    "pl[PulsePeriod] = sc.scalar(71.0, unit='ms')\n",
    "pl[SourceTimeRange] = sc.scalar(0.0, unit='ms'), sc.scalar(4.0, unit='ms')\n",
    "pl[SourceWavelengthRange] = sc.scalar(0.0, unit='angstrom'), sc.scalar(\n",
    "    10.0, unit='angstrom'\n",
    ")\n",
    "pl[Choppers] = {}\n",
    "pl[SourceChopperName] = 'PSC1'\n",
    "pl[Ltotal] = sc.scalar(21.0, unit='m')\n",
    "pl.get(TofData).visualize()"
   ]
  }
 ],
 "metadata": {
  "kernelspec": {
   "display_name": "dev310",
   "language": "python",
   "name": "python3"
  },
  "language_info": {
   "codemirror_mode": {
    "name": "ipython",
    "version": 3
   },
   "file_extension": ".py",
   "mimetype": "text/x-python",
   "name": "python",
   "nbconvert_exporter": "python",
   "pygments_lexer": "ipython3",
   "version": "3.10.12"
  }
 },
 "nbformat": 4,
 "nbformat_minor": 2
}
