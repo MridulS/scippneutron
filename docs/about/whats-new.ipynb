{
 "cells": [
  {
   "cell_type": "markdown",
   "metadata": {
    "tags": []
   },
   "source": [
    "# What's new in scippneutron\n",
    "\n",
    "This page highlights feature additions and discusses major changes from recent releases.\n",
    "For a full list of changes see the [Release Notes](https://scipp.github.io/scippneutron/about/release-notes.html)."
   ]
  },
  {
   "cell_type": "code",
   "execution_count": null,
   "metadata": {},
   "outputs": [],
   "source": [
    "import numpy as np\n",
    "import scipp as sc\n",
    "import scippneutron as scn"
   ]
  },
  {
   "cell_type": "markdown",
   "metadata": {
    "tags": []
   },
   "source": [
    "## File loading"
   ]
  },
  {
   "cell_type": "markdown",
   "metadata": {},
   "source": [
    "<div class=\"alert alert-info\">\n",
    "\n",
    "**New in 0.3**\n",
    "\n",
    "- `load_nexus` now loads the UB-matrix and orientation matrix if found in a Nexus file.\n",
    "- `load_nexus` now also loads pulse times for event data.\n",
    "\n",
    "</div>"
   ]
  },
  {
   "cell_type": "markdown",
   "metadata": {},
   "source": [
    "## Instrument View"
   ]
  },
  {
   "cell_type": "markdown",
   "metadata": {},
   "source": [
    "<div class=\"alert alert-info\">\n",
    "\n",
    "**New in 0.3**\n",
    "\n",
    "Additional components can be displayed using a range of shapes and related options to embellish the 3D instrument plot.\n",
    "\n",
    "</div>\n",
    "\n",
    "Full details are described in the [Instrument View](../user-guide/instrument-view.ipynb) documentation.\n",
    "Example:"
   ]
  },
  {
   "cell_type": "code",
   "execution_count": null,
   "metadata": {},
   "outputs": [],
   "source": [
    "da = scn.data.example_data('PG3_4844_event.nxs')"
   ]
  },
  {
   "cell_type": "code",
   "execution_count": null,
   "metadata": {},
   "outputs": [],
   "source": [
    "sample_settings = {'center': da.meta['sample_position'], 'color': '#000000', 'wireframe': True,\n",
    "                   'size': sc.scalar(0.2, unit='m'), 'type': 'box'}\n",
    "source_settings = {'center': da.meta['source_position'], 'color': '#FFC133',\n",
    "                   'size': sc.vector(value=[1, 2, 1], unit='m'), 'type': 'cylinder'}\n",
    "scn.instrument_view(da, components={'sample': sample_settings, 'source': source_settings})"
   ]
  }
 ],
 "metadata": {
  "kernelspec": {
   "display_name": "Python 3 (ipykernel)",
   "language": "python",
   "name": "python3"
  },
  "language_info": {
   "codemirror_mode": {
    "name": "ipython",
    "version": 3
   },
   "file_extension": ".py",
   "mimetype": "text/x-python",
   "name": "python",
   "nbconvert_exporter": "python",
   "pygments_lexer": "ipython3",
   "version": "3.8.12"
  }
 },
 "nbformat": 4,
 "nbformat_minor": 4
}
