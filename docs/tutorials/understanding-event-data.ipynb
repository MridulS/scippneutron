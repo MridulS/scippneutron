{
 "cells": [
  {
   "cell_type": "markdown",
   "id": "2822456c-a889-4eb2-b77c-f759284a947e",
   "metadata": {
    "tags": []
   },
   "source": [
    "# Understanding Event Data"
   ]
  },
  {
   "cell_type": "markdown",
   "id": "212a1096-148e-4522-ac0c-d16304927d00",
   "metadata": {},
   "source": [
    "## Introduction\n",
    "\n",
    "Neutron-scattering data may be recorded in \"event mode\":\n",
    "For each detected neutron a (pulse) timestamp and a time-of-flight is stored.\n",
    "This notebook will develop an understanding of how do work with this type of data.\n",
    "\n",
    "Our objective is *not* to demonstrate or develop a full reduction workflow.\n",
    "Instead we *develop understanding of data structures and opportunities* that event data provides.\n",
    "\n",
    "This tutorial contains exercises, but solutions are included directly.\n",
    "We encourage you to download this notebook and run through it step by step before looking at the solutions.\n",
    "We recommend to use a recent version of *JupyterLab*:\n",
    "The solutions are included as hidden cells and shown only on demand.\n",
    "\n",
    "We use data containing event data form the POWGEN powder diffractometer at SNS.\n",
    "Note that the data has been modified for the purpose of this tutorial and is not entirely in its original state.\n",
    "We begin by loading thr file and plot the raw data:"
   ]
  },
  {
   "cell_type": "code",
   "execution_count": null,
   "id": "f1a6ae11-8046-4665-897a-e5259585d765",
   "metadata": {},
   "outputs": [],
   "source": [
    "import scipp as sc\n",
    "run = 4844\n",
    "filename = f'PG3_{run}_event.h5'\n",
    "da = sc.io.open_hdf5(filename=filename)\n",
    "da.plot()"
   ]
  },
  {
   "cell_type": "markdown",
   "id": "8d7d09ba-038f-473d-b973-1344779864c0",
   "metadata": {},
   "source": [
    "We can see some traces of diffraction lines, but they are oddly blurry.\n",
    "There is also an artifact from the prompt-pulse visiable at $4000 \\mu s$.\n",
    "This tutorial illustrates how event data gives us the power to get to deal with and understand the underlying issues.\n",
    "Before we start the investigation we cover some basics of working with event data.\n",
    "\n",
    "## Inspecting event data\n",
    "\n",
    "As usual, to begin exploring a loaded file, we can inspect the HTML representation of a scipp object shown by Jupyter when typing a variable at the end of a cell (this can also be done using `sc.to_html(da)`, anywhere in a cell):"
   ]
  },
  {
   "cell_type": "code",
   "execution_count": null,
   "id": "1065ad1b-5ccb-4f1e-9d64-41d0b7f7d884",
   "metadata": {},
   "outputs": [],
   "source": [
    "da"
   ]
  },
  {
   "cell_type": "markdown",
   "id": "24f99e52-dd48-48d2-80ed-dd2430ce0afa",
   "metadata": {},
   "source": [
    "When can tell that this is binned (event) data from the `dtype` of the data (usually `DataArrayView`) as well as the inline preview, denoting that this is binned data with lists of given lengths.\n",
    "The meaning of these can best be understood using a graphical depection of `da`, creating using `sc.show`:"
   ]
  },
  {
   "cell_type": "code",
   "execution_count": null,
   "id": "8cd28b6f-ffcc-40c0-babb-9cbc5618fdc7",
   "metadata": {},
   "outputs": [],
   "source": [
    "sc.show(da)"
   ]
  },
  {
   "cell_type": "markdown",
   "id": "4873c8b5-c227-4e0a-bfc3-506403385464",
   "metadata": {},
   "source": [
    "Each value (yellow cube) is a small table containing event parameters such as pulse time, time-of-flight, and weights (usually 1 for raw data).\n",
    "\n",
    "**Definitions**:\n",
    "1. In scipp we refer to each of these cubes (containing a table of events) as a *bin*.\n",
    "   We can think of this as a bin (or bucket) containing a number of records.\n",
    "2. An array of bins (such as the stack of yellow cubes above) is referred to as *binned variable*.\n",
    "   For example, `da.data` is a binned variable.\n",
    "3. A data array with data given by a binned variable is referred to as as *binned data*.\n",
    "   Binned data is a precursor to dense or histogrammed data.\n",
    "\n",
    "Each bin \"contains\" a small table, essentially a 1-D data array.\n",
    "For efficiency and consistency scipp does not actually store an individual data array for every bin.\n",
    "Instead each bin refers to a section (slice) of a long table containing all the events from all bins combined.\n",
    "This explains the `dtype=DataArrayView` seen in the HTML representation above.\n",
    "For many practical purposes such a view of a data arrays behaves just like any other data array.\n",
    "\n",
    "The values of the bins can be accessed using the `values` property.\n",
    "For dense data this might give us a `float` value, for binned data we obtain a table:"
   ]
  },
  {
   "cell_type": "code",
   "execution_count": null,
   "id": "d1a8f5cc-925d-4825-967a-1faf62a9301b",
   "metadata": {},
   "outputs": [],
   "source": [
    "da.values[500]"
   ]
  },
  {
   "cell_type": "markdown",
   "id": "e6b9b2eb-053f-4a17-a60f-06a75f9ee59e",
   "metadata": {
    "tags": []
   },
   "source": [
    "### Exercise\n",
    "\n",
    "Use `sc.to_html()`, `sc.show()`, and `sc.table()` to explore and understand `da`, `da.events`, as well as individual values of `da` such as `da.values[500]`."
   ]
  },
  {
   "cell_type": "markdown",
   "id": "0c63cddb-cdd5-4a1e-80e7-2f39cbca3aab",
   "metadata": {},
   "source": [
    "## From binned data to dense data\n",
    "\n",
    "### Option 1: Summing bins\n",
    "\n",
    "If the existing binning is sufficient for our purpose we may simply sum over the rows of the tables making up the bin values:"
   ]
  },
  {
   "cell_type": "code",
   "execution_count": null,
   "id": "42e8f470-f71a-4152-817c-89cd6fb80516",
   "metadata": {},
   "outputs": [],
   "source": [
    "da_bin_sum = da.bins.sum()"
   ]
  },
  {
   "cell_type": "markdown",
   "id": "1128a131-ae8f-4112-8332-2b33e09fd2ac",
   "metadata": {},
   "source": [
    "Here we used the special `bins` property to apply an operation to each of the bins in `da`.\n",
    "\n",
    "We can visualize the result.\n",
    "Make sure to compare the representations with those obtained above for binned data (`da`):"
   ]
  },
  {
   "cell_type": "code",
   "execution_count": null,
   "id": "40abe476-83fd-4bd4-bc06-db4a8a77a403",
   "metadata": {},
   "outputs": [],
   "source": [
    "sc.to_html(da_bin_sum)\n",
    "sc.show(da_bin_sum)"
   ]
  },
  {
   "cell_type": "markdown",
   "id": "85f99c1c-14a7-4ddc-a7e8-d6653601e32b",
   "metadata": {},
   "source": [
    "We can use `da_bins_sum` to, e.g., plot the total counts per spectrum by summing over the `tof` dimension (in this case there is just a single time-of-flight bin so we could have used `da_bin_sum['tof', 0]` instead):"
   ]
  },
  {
   "cell_type": "code",
   "execution_count": null,
   "id": "ff943264-7c1f-403f-9616-dcd7c5bb0fa7",
   "metadata": {},
   "outputs": [],
   "source": [
    "da_bin_sum.sum('tof').plot(marker='.')"
   ]
  },
  {
   "cell_type": "markdown",
   "id": "4925a8ac-6493-4872-9214-5427b78a4343",
   "metadata": {
    "tags": []
   },
   "source": [
    "### Option 2: Histogramming\n",
    "\n",
    "For performance and memory reasons binned data often contains the minimum number of bins that is \"necessary\" for a given purpose.\n",
    "In this case `da` only contains a single time-of-flight bin, which is not practical for downstream applications such as data analysis, or plotting.\n",
    "Instead of simply summing over all events in a bin we may thus *histogram* data.\n",
    "Note that scipp makes the distinction between binning data (preserving all events individually) and histogramming data (summing all events that fall inside a bin).\n",
    "\n",
    "For simplicity we consider only a single spectrum:"
   ]
  },
  {
   "cell_type": "code",
   "execution_count": null,
   "id": "02ef485e-6954-4fb1-ac0e-1dd3740eb03b",
   "metadata": {},
   "outputs": [],
   "source": [
    "spec = da['spectrum', 450].copy()\n",
    "sc.show(spec)"
   ]
  },
  {
   "cell_type": "code",
   "execution_count": null,
   "id": "870d4d5f-a6f2-4cd0-905a-726907041965",
   "metadata": {},
   "outputs": [],
   "source": [
    "sc.table(spec.values[0]['event',:5])"
   ]
  },
  {
   "cell_type": "markdown",
   "id": "32a50f9e-92ae-4541-ac07-121f40429eef",
   "metadata": {},
   "source": [
    "We use one of the [scipp functions for creating a new variable](https://scipp.github.io/reference/api.html#creation-functions) to define the desired bin edge of our histogram.\n",
    "In this case `sc.linspace`:"
   ]
  },
  {
   "cell_type": "code",
   "execution_count": null,
   "id": "6e425b00-0c3c-493f-8fe8-aa904987f8ad",
   "metadata": {},
   "outputs": [],
   "source": [
    "tof_edges = sc.linspace(dim='tof', start=18.0, stop=17000, num=100, unit='us')\n",
    "sc.histogram(spec, bins=tof_edges).plot()"
   ]
  },
  {
   "cell_type": "markdown",
   "id": "96e31589-4fb6-4340-907b-0d1c6d486aad",
   "metadata": {
    "jp-MarkdownHeadingCollapsed": true,
    "tags": []
   },
   "source": [
    "#### Exercise\n",
    "\n",
    "Change `tof_edges` to control what is plotted:\n",
    "\n",
    "- Change the number of bins, e.g., to a finer resolution\n",
    "- Change the start and stop of the edges to plot only a smaller time-of-flight region\n",
    "\n",
    "#### Solution"
   ]
  },
  {
   "cell_type": "code",
   "execution_count": null,
   "id": "3c36c44a-78ca-4873-b67d-0dbd3c4cc5b0",
   "metadata": {},
   "outputs": [],
   "source": [
    "tof_edges = sc.linspace(dim='tof', start=2000.0, stop=15000, num=200, unit='us')\n",
    "sc.histogram(spec, bins=tof_edges).plot()"
   ]
  },
  {
   "cell_type": "markdown",
   "id": "6f4748cd-04c0-4072-ab2e-9bc83d4bcee1",
   "metadata": {
    "tags": []
   },
   "source": [
    "## Masking event data — Binning by existing parameters\n",
    "\n",
    "While quickly converting binned (event) data into dense (histogrammed) data has its applications, we may typically want to work with binned data as long as possible.\n",
    "How can we mask a time-of-flight region, e.g., to mask a prompt-pulse, in *event mode*?\n",
    "\n",
    "Let us sum all spectra and define a dummy data array (named `prompt`) to illustrate the objective:"
   ]
  },
  {
   "cell_type": "code",
   "execution_count": null,
   "id": "fc51a196-5435-4c9f-8d9a-8cd1d6cdb1c5",
   "metadata": {},
   "outputs": [],
   "source": [
    "# Start and stop are ficticous and this prompt pulse is not actually present in the raw data from SNS\n",
    "prompt_start = 4000.0 * sc.Unit('us')\n",
    "prompt_stop = 5000.0 * sc.Unit('us')\n",
    "prompt_tof_edges = spec.coords['tof']\n",
    "prompt_edges = sc.concatenate(prompt_start, prompt_stop, 'tof')\n",
    "prompt_tof_edges = sc.sort(sc.concatenate(prompt_tof_edges, prompt_edges, 'tof'), 'tof')\n",
    "prompt = sc.DataArray(data=sc.Variable(dims=['tof'], values=[0,160000,0], unit='counts'),\n",
    "            coords={'tof':prompt_tof_edges})\n",
    "tof_edges = sc.linspace(dim='tof', start=18.0, stop=17000, num=100, unit='us')\n",
    "spec_hist = sc.histogram(da.bins.concatenate('spectrum'), bins=tof_edges)\n",
    "sc.plot({'spec':spec_hist, 'prompt':prompt})"
   ]
  },
  {
   "cell_type": "markdown",
   "id": "ecada6ea-ace1-4d06-a09a-b48eb4eb2e04",
   "metadata": {},
   "source": [
    "We now want to mask out the prompt-pulse, i.e., the peak with exponential falloff inside the region where `prompt` in the figure above is nonzero.\n",
    "\n",
    "We can do so by checking (for every event) whether the time-of-flight is within the region covered by the prompt-pulse.\n",
    "As above, we first consider only a single spectrum.\n",
    "The result can be stored as a new mask:"
   ]
  },
  {
   "cell_type": "code",
   "execution_count": null,
   "id": "0357355b-9a0b-4466-a735-02fb3c5310a2",
   "metadata": {},
   "outputs": [],
   "source": [
    "spec1 = da['spectrum', 450].copy()  # copy since we do some modifications below\n",
    "event_tof = spec.bins.coords['tof']\n",
    "spec1.bins.masks['prompt_pulse'] = (prompt_start <= event_tof) & (event_tof < prompt_stop)\n",
    "spec1.plot()"
   ]
  },
  {
   "cell_type": "markdown",
   "id": "8b085b0c-2d88-4129-b9c0-62097cdd6ee9",
   "metadata": {},
   "source": [
    "The table representation (`sc.table`) and `sc.show` illustrate this process of masking:"
   ]
  },
  {
   "cell_type": "code",
   "execution_count": null,
   "id": "74d89dd4-a11e-4e9c-98d2-3986b57be569",
   "metadata": {},
   "outputs": [],
   "source": [
    "sc.table(spec1.values[0]['event',:5])\n",
    "sc.show(spec1)"
   ]
  },
  {
   "cell_type": "markdown",
   "id": "f92f9157-dc32-4f6d-a2b0-151d49e87934",
   "metadata": {},
   "source": [
    "We have added a new column to the event table, defining *for every event* whether it is masked or not.\n",
    "\n",
    "The generally recommended solution is different though.\n",
    "Rather than masking individual events, let us simply \"sort\" the events dependig on whether there fall below, inside, or above the region of the prompt-pulse.\n",
    "We do not actually need to fully sort the events but rather use a *binning* proceedure, using `sc.bin`:"
   ]
  },
  {
   "cell_type": "code",
   "execution_count": null,
   "id": "04a3a97c-2b62-4233-80e9-4b39db977286",
   "metadata": {},
   "outputs": [],
   "source": [
    "spec2 = da['spectrum', 450].copy()  # copy since we do some modifications below\n",
    "spec2 = sc.bin(spec2, edges=[prompt_tof_edges])\n",
    "prompt_mask = sc.array(dims=spec2.dims, values=[False, True, False])\n",
    "spec2.masks['prompt_pulse'] = prompt_mask\n",
    "sc.show(spec2)"
   ]
  },
  {
   "cell_type": "markdown",
   "id": "c7ee8051-5f7f-4a8a-9a41-961da3eea2db",
   "metadata": {},
   "source": [
    "Compare this to the graphical representation for `spec1` above and to the figure of the prompt pulse.\n",
    "The start and stop of the prompt pulse are used to cut the total time-of-flight interval into three sections (bins).\n",
    "The center bin is masked:"
   ]
  },
  {
   "cell_type": "code",
   "execution_count": null,
   "id": "b0a6d763-e33e-4667-a2ee-3e1ebeaf9e32",
   "metadata": {},
   "outputs": [],
   "source": [
    "spec2.masks['prompt_pulse']"
   ]
  },
  {
   "cell_type": "markdown",
   "id": "a7cbf563-68fd-4a14-9cda-8800936fd5f9",
   "metadata": {},
   "source": [
    "We can also plot the two options of the masked spectrum for comparison.\n",
    "Note how in the second, recommended, option the mask is preserved in the plot, whereas in the first case the histogramming performed by `plot` necessarily has to apply the mask:"
   ]
  },
  {
   "cell_type": "code",
   "execution_count": null,
   "id": "3d85ad1a-341c-4bde-a436-f51432b46e9e",
   "metadata": {},
   "outputs": [],
   "source": [
    "sc.plot({'event-mask':spec1, 'bin-mask (2x)':spec2*sc.scalar(2.0)})"
   ]
  },
  {
   "cell_type": "markdown",
   "id": "62a9e8be-05bc-476c-b4d6-83995963364b",
   "metadata": {
    "jp-MarkdownHeadingCollapsed": true,
    "tags": []
   },
   "source": [
    "### Bonus question\n",
    "\n",
    "Why did we not use a fine binning, e.g., with 1000 time-of-flight bins and mask a range of bins, similar to how it would be done for histogrammed (non-event) data?\n",
    "\n",
    "### Solution"
   ]
  },
  {
   "cell_type": "markdown",
   "id": "77391eb4-d48a-4335-aa90-1587ff32865e",
   "metadata": {
    "jp-MarkdownHeadingCollapsed": true,
    "tags": []
   },
   "source": [
    "- This would add a lot of over overhead from handling many bins.\n",
    "  If our instrument had 1.000.000 pixels we would have 1.000.000.000 bins, which comes with memory overhead but first and foremost compute overhead."
   ]
  },
  {
   "cell_type": "markdown",
   "id": "85f87899-dc55-4dff-ba79-d85e37177391",
   "metadata": {
    "tags": []
   },
   "source": [
    "## Understanding the `bins` property"
   ]
  },
  {
   "cell_type": "code",
   "execution_count": null,
   "id": "7d8d6b90-a2cc-45a8-b232-c7c24b4dd25a",
   "metadata": {
    "tags": []
   },
   "outputs": [],
   "source": [
    "import numpy as np\n",
    "scale_scalar = 0.9 * sc.Unit('')\n",
    "scale_tof = sc.array(dims=['tof'], values=[3,2,1.1])\n",
    "scale_event = 0.4 + 0.2*sc.sin(spec2.bins.coords['tof'] / sc.scalar(1000.0, unit='us/rad'))"
   ]
  },
  {
   "cell_type": "code",
   "execution_count": null,
   "id": "db2c6763-f723-43c3-a6e1-da55af261df0",
   "metadata": {},
   "outputs": [],
   "source": [
    "ds = sc.Dataset()\n",
    "ds['original'] = spec2.copy()\n",
    "ds['scale_scalar'] = spec2 * scale_scalar\n",
    "ds['scale_tof'] = spec2 * scale_tof\n",
    "spec3 = spec2.copy()\n",
    "spec3.bins.data *= scale_event\n",
    "ds['scale_events'] = spec3\n",
    "ds.plot()"
   ]
  },
  {
   "cell_type": "markdown",
   "id": "f1a9d9a9-51cf-40b7-9b04-d3c293c2cbc4",
   "metadata": {},
   "source": [
    "### Concrete example\n",
    "\n",
    "TODO Is the above useful without concrete examples?"
   ]
  },
  {
   "cell_type": "markdown",
   "id": "0c57d515-0b11-4eed-801e-8704f246780e",
   "metadata": {
    "tags": []
   },
   "source": [
    "## Binning by new parameters\n",
    "\n",
    "After having masked the prompt-pulse we continue our investigation by considering the proton-charge log:"
   ]
  },
  {
   "cell_type": "code",
   "execution_count": null,
   "id": "2034db89-7778-44ce-8a9f-9010c39c0ee7",
   "metadata": {},
   "outputs": [],
   "source": [
    "proton_charge = da.attrs['proton_charge'].value\n",
    "proton_charge.plot(marker='.')"
   ]
  },
  {
   "cell_type": "code",
   "execution_count": null,
   "id": "46c52a61-baae-41e0-8462-8482d66acb58",
   "metadata": {},
   "outputs": [],
   "source": [
    "tmin = proton_charge.coords['time'].min()\n",
    "tmax = proton_charge.coords['time'].max()\n",
    "print(f'{tmin}\\n{tmax}')"
   ]
  },
  {
   "cell_type": "code",
   "execution_count": null,
   "id": "23786c4e-ad38-441e-99da-6329a20b1653",
   "metadata": {},
   "outputs": [],
   "source": [
    "pulse_time = sc.arange(dim='pulse_time',\n",
    "                        start=tmin.value,\n",
    "                        stop=tmax.value,\n",
    "                        step=(tmax.value - tmin.value) / 100)\n",
    "pulse_time"
   ]
  },
  {
   "cell_type": "code",
   "execution_count": null,
   "id": "2aba727f-7839-4219-9958-9f4950bebf82",
   "metadata": {},
   "outputs": [],
   "source": [
    "spec = da['spectrum', 450].copy()  # copy since we do some modifications below\n",
    "binned_spec = sc.bin(spec, edges=[pulse_time])\n",
    "binned_spec"
   ]
  },
  {
   "cell_type": "code",
   "execution_count": null,
   "id": "ba76a382-c3fb-446f-976e-6eb32cf04246",
   "metadata": {},
   "outputs": [],
   "source": [
    "#binned_spec2 = sc.bin(spec, edges=[tof_edges, pulse_time, ])\n",
    "#binned_spec2"
   ]
  },
  {
   "cell_type": "code",
   "execution_count": null,
   "id": "e78c4701-2a33-41d5-ac53-58d604cc631b",
   "metadata": {},
   "outputs": [],
   "source": [
    "binned_spec.plot()"
   ]
  },
  {
   "cell_type": "code",
   "execution_count": null,
   "id": "939215bd-ffa9-4bf3-8cf1-7f453761f4ea",
   "metadata": {},
   "outputs": [],
   "source": [
    "binned_spec.plot(resolution={'x':100, 'y':20})"
   ]
  },
  {
   "cell_type": "code",
   "execution_count": null,
   "id": "a796ee0e-0c98-4418-a458-d870988122d9",
   "metadata": {},
   "outputs": [],
   "source": [
    "binned_spec['tof',0].plot()"
   ]
  },
  {
   "cell_type": "code",
   "execution_count": null,
   "id": "13682ffd-a520-4871-9663-e08ac0efd929",
   "metadata": {},
   "outputs": [],
   "source": [
    "#da['detector_id', 3000].plot()\n",
    "# da['tof', 0].plot(marker='.')  # bad because fixed resampling resolution in event mode\n",
    "#da['tof', 0].bins.sum().plot(marker='.')"
   ]
  },
  {
   "cell_type": "markdown",
   "id": "08346ea0-8bf2-4950-9d6e-12a95d0949df",
   "metadata": {
    "tags": []
   },
   "source": [
    "### Plotting slices of higher-dimensional data"
   ]
  },
  {
   "cell_type": "markdown",
   "id": "a05468af-8047-4588-823b-2b3b72d79a7d",
   "metadata": {},
   "source": [
    "### Exercise:\n",
    "\n",
    "Using the same approach as for masking a time-of-flight bin in the previous section, mask the time period starting at about 16:30 where the proton charge is very low.\n",
    "\n",
    "- Define appropriate edges for pulse time (use as few bins as possible, not the 100 pulse-time bins from the binning example above).\n",
    "- Use `sc.bin` to apply the new binning.\n",
    "- Set an appropriate bin mask.\n",
    "- Plot the result to confirm that the mask is set and defined as expected.\n",
    "\n",
    "Note:\n",
    "In practice masking bad pulses would usually be done on a pulse-by-pulse basis.\n",
    "This requires a slightly more complex approach and is beyond the scope of this introduction."
   ]
  },
  {
   "cell_type": "markdown",
   "id": "e1327a00-f0fa-4fd9-b29e-acad8e0ec570",
   "metadata": {
    "tags": []
   },
   "source": [
    "### Solution"
   ]
  },
  {
   "cell_type": "raw",
   "id": "b75ac607-6961-4f77-a6df-e61192469f97",
   "metadata": {},
   "source": [
    "TODO given good example of how arbitrary datetime can be created\n",
    "hidden solution"
   ]
  },
  {
   "cell_type": "markdown",
   "id": "2a4954b1-e627-47e6-a776-2749581a7f02",
   "metadata": {
    "tags": []
   },
   "source": [
    "## Higher dimensions and cuts\n",
    "\n",
    "Adapt masks from 1-d case to this?"
   ]
  },
  {
   "cell_type": "code",
   "execution_count": null,
   "id": "a34b378f-c08b-4a8b-9daa-214b0fa651af",
   "metadata": {},
   "outputs": [],
   "source": [
    "da2 = sc.bin(da, edges=[prompt_tof_edges])\n",
    "da2.masks['prompt_pulse'] = prompt_mask\n",
    "da2.plot()"
   ]
  },
  {
   "cell_type": "code",
   "execution_count": null,
   "id": "aa548f14-e9dd-4c9d-afe2-af329884f9fa",
   "metadata": {},
   "outputs": [],
   "source": [
    "import scippneutron as scn\n",
    "# Note how dspacing gets unaligned if done in reverse order\n",
    "#da2 = sc.bin(da, edges=[tof_edges, pulse_time, ])\n",
    "#da2 = scn.convert(da2, 'tof', 'dspacing', scatter=True)\n",
    "da2 = scn.convert(da2, 'tof', 'dspacing', scatter=True)\n",
    "\n",
    "dspacing = sc.linspace(dim='dspacing', unit='Angstrom', start=0.0, stop=3.0, num=4)\n",
    "# Note: Do not use 100 pulse-time bins here, extremely slow concatenate below would ensue\n",
    "pulse_time = sc.arange(dim='pulse_time', start=tmin.value, stop=tmax.value, step=(tmax.value - tmin.value) / 10)\n",
    "da2 = sc.bin(da2, edges=[dspacing, pulse_time, ])\n",
    "#da2 = sc.bin(da2, edges=[pulse_time, ])\n",
    "da2"
   ]
  },
  {
   "cell_type": "code",
   "execution_count": null,
   "id": "821a0af6-20c1-4657-b735-d8495bd11d85",
   "metadata": {},
   "outputs": [],
   "source": [
    "# TODO runs out of memory?\n",
    "#da2.plot()"
   ]
  },
  {
   "cell_type": "code",
   "execution_count": null,
   "id": "8230c3dc-3abe-4e64-b2b7-b5a6f721da47",
   "metadata": {},
   "outputs": [],
   "source": [
    "da2.bins.concatenate('spectrum').plot()"
   ]
  },
  {
   "cell_type": "code",
   "execution_count": null,
   "id": "7a321404-d89a-4ea0-9be3-326d6ac050bb",
   "metadata": {},
   "outputs": [],
   "source": [
    "tmp = da2.bins.concatenate('spectrum')\n",
    "lines = {}\n",
    "lines['total'] = tmp.bins.concatenate('pulse_time')\n",
    "for i in 0,4,9:\n",
    "    lines[f'interval{i}'] = tmp['pulse_time', i]\n",
    "sc.plot(lines, resolution=1000, norm='log')"
   ]
  },
  {
   "cell_type": "code",
   "execution_count": null,
   "id": "767f2b10-c2a3-4ca0-b4e0-e68b61321e97",
   "metadata": {},
   "outputs": [],
   "source": [
    "pulse_time = sc.arange(dim='pulse_time', start=tmin.value, stop=tmax.value, step=(tmax.value - tmin.value) / 20)\n",
    "split = sc.bin(tmp, edges=[pulse_time])\n",
    "sc.plot(sc.collapse(split, keep='dspacing'), resolution=5000)"
   ]
  },
  {
   "cell_type": "code",
   "execution_count": null,
   "id": "5f79e3c6-f721-4619-8f8b-07842557f5cc",
   "metadata": {},
   "outputs": [],
   "source": [
    "two_theta_bins = sc.linspace(dim='two_theta', unit='rad', start=0.2, stop=np.pi, num=9)\n",
    "da2.coords['two_theta'] = scn.two_theta(da2)\n",
    "#theta_sample = sc.groupby(da2, 'two_theta', bins=two_theta_bins).bins.concatenate('spectrum')\n",
    "da2"
   ]
  },
  {
   "cell_type": "code",
   "execution_count": null,
   "id": "c107b71f-2147-4b0a-a9a8-30ff845f1759",
   "metadata": {},
   "outputs": [],
   "source": [
    "theta_sample = sc.groupby(da2, 'two_theta', bins=two_theta_bins).bins.concatenate('spectrum')\n",
    "theta_sample"
   ]
  },
  {
   "cell_type": "code",
   "execution_count": null,
   "id": "67fb066c-9f01-4ced-8c4c-fcdebb9725c7",
   "metadata": {},
   "outputs": [],
   "source": [
    "#theta_sample.plot(resolution={'x':9, 'y':500})\n",
    "theta_sample.plot(vmax=140*sc.Unit('counts'))"
   ]
  },
  {
   "cell_type": "code",
   "execution_count": null,
   "id": "d9abd4ea-8b54-40f2-97c7-f5bc4a93e088",
   "metadata": {},
   "outputs": [],
   "source": [
    "#theta_sample['pulse_time', -1]['two_theta', 1].plot(resolution=8000)\n",
    "dspacing_final = sc.linspace(dim='dspacing', unit='Angstrom', start=0.0, stop=2.0, num=2)"
   ]
  },
  {
   "cell_type": "markdown",
   "id": "2193faf4-6de7-464f-b152-68609e26f188",
   "metadata": {},
   "source": [
    "### Extract using `histogram`\n",
    "\n",
    "Works only for 1-D cuts:"
   ]
  },
  {
   "cell_type": "code",
   "execution_count": null,
   "id": "182ad3aa-def5-4fdc-a106-e9dbb04d36b4",
   "metadata": {},
   "outputs": [],
   "source": [
    "dspacing_final = sc.linspace(dim='dspacing', unit='Angstrom', start=0.0, stop=2.0, num=8000)\n",
    "sc.histogram(theta_sample['pulse_time', -1]['two_theta', 1],\n",
    "             bins=dspacing_final).plot()"
   ]
  },
  {
   "cell_type": "markdown",
   "id": "3ba6835a-d0a0-4fbb-9de1-7914bd3e033e",
   "metadata": {},
   "source": [
    "### Multi-dimensional cuts\n"
   ]
  },
  {
   "cell_type": "code",
   "execution_count": null,
   "id": "0f91cb06-81e3-41ef-be17-115593bb62d0",
   "metadata": {},
   "outputs": [],
   "source": [
    "da"
   ]
  },
  {
   "cell_type": "code",
   "execution_count": null,
   "id": "173060a8-e179-4290-9bf1-e6c72ea60a08",
   "metadata": {},
   "outputs": [],
   "source": [
    "#da3 = scn.convert(da3, 'tof', 'dspacing', scatter=True)"
   ]
  },
  {
   "cell_type": "code",
   "execution_count": null,
   "id": "3dd946df-ff68-4e9c-b0d8-373938277d53",
   "metadata": {},
   "outputs": [],
   "source": [
    "#da3.bins.concatenate('spectrum').plot()\n",
    "#cut3 = sc.bin(da3, edges=[dspacing_cut, pulse_time_cut], erase=['spectrum'])"
   ]
  },
  {
   "cell_type": "code",
   "execution_count": null,
   "id": "6f615e58-b1ec-4614-84dc-153747ade624",
   "metadata": {},
   "outputs": [],
   "source": [
    "#cut3.plot()"
   ]
  },
  {
   "cell_type": "markdown",
   "id": "5e2ed442-dd0e-4d37-9aa7-919ad7013f6f",
   "metadata": {},
   "source": [
    "Add fake sample env param to filter/bin\n",
    "\n",
    "TODO Too complicated! Just bin by pulse time to which give the same visualization\n",
    "\n",
    "da3.bins.coords['sample-env-param'] = da3.bins.coords['pulse_time'] - tmin"
   ]
  },
  {
   "cell_type": "code",
   "execution_count": null,
   "id": "75037508-c4f9-472e-8019-80b2a8ceb61b",
   "metadata": {},
   "outputs": [],
   "source": [
    "two_theta_cut = sc.linspace(dim='two_theta', unit='rad', start=0.2, stop=1.0, num=2)\n",
    "dspacing_cut = sc.linspace(dim='dspacing', unit='Angstrom', start=0.0, stop=2.0, num=2)\n",
    "pulse_time_cut = sc.scalar(np.datetime64('2011-08-12T17:03:43.481640624')) \\\n",
    "    + sc.to_unit(sc.array(dims=['pulse_time'], unit='s', values=[0,20*60]), 'ns')\n",
    "\n",
    "# binning two_theta works only if other event coords are also binned?\n",
    "cut = sc.bin(da2, edges=[two_theta_cut, dspacing_cut, pulse_time_cut], erase=['spectrum'])\n",
    "\n",
    "# Does not work if there is no event coord (created by `groupby` above):\n",
    "#    sc.bin(theta_sample['pulse_time', -1], edges=[two_theta_cut])\n",
    "# Instead:\n",
    "#cut = sc.groupby(da2['pulse_time', -1], 'two_theta', bins=two_theta_cut).bins.concatenate('spectrum')\n",
    "#cut = sc.groupby(cut, 'two_theta', bins=two_theta_cut).bins.concatenate('spectrum')\n",
    "# But this leaves `two_theta` as a dim, would want to squeeze it\n",
    "cut['two_theta', 0].plot()\n",
    "#cut.plot()"
   ]
  },
  {
   "cell_type": "code",
   "execution_count": null,
   "id": "0eb9fccb-a353-44c3-aa02-0c64f2bf71ee",
   "metadata": {},
   "outputs": [],
   "source": [
    "cut"
   ]
  },
  {
   "cell_type": "code",
   "execution_count": null,
   "id": "4e052cc5-c878-4c74-be87-8d043404071b",
   "metadata": {},
   "outputs": [],
   "source": [
    "dims=['pulse']  # NXevent_data\n",
    "\n",
    "# current\n",
    "da.events.coords['pulse_time'] = sc.empty(sizes=da.events.sizes, dtype='datetime64', unit='s')\n",
    "da.bins.coords['pulse_time'][...] = da.coords['pulse_time']\n",
    "sc.bin(da, group=[detector_id], erase=['pulse'])\n",
    "\n",
    "# option 1\n",
    "da.bins.coords['pulse_time'] = da.coords['pulse_time']\n",
    "sc.bin(da, group=[detector_id], erase=['pulse'])\n",
    "\n",
    "# option 2 (cheaper since it avoids pass over extra column and copy)\n",
    "sc.bin(da, group=[detector_id], erase=['pulse'], map_to_bins=['pulse'])\n",
    "sc.bin(da, group=[detector_id], erase=['pulse'], map_erased=True)"
   ]
  },
  {
   "cell_type": "markdown",
   "id": "7cbe7516-6adf-4ae6-8e11-4801681af9dd",
   "metadata": {},
   "source": [
    "# Unused cells"
   ]
  },
  {
   "cell_type": "raw",
   "id": "d27edfb3-efbf-4cd7-9388-87a92e8985ae",
   "metadata": {},
   "source": [
    "import scippneutron as scn\n",
    "N = 7*154\n",
    "#scn.instrument_view(da['spectrum', :N])\n",
    "scn.instrument_view(da)"
   ]
  },
  {
   "cell_type": "raw",
   "id": "981401c9-012a-4339-b2dc-2d0435706c85",
   "metadata": {
    "tags": []
   },
   "source": [
    "import scipp as sc\n",
    "import scippneutron as scn\n",
    "da = scn.load(filename=f'PG3_{run}_event.nxs', load_pulse_times=True)\n",
    "\n",
    "proton_charge = da.attrs['proton_charge'].value\n",
    "tmin = proton_charge.coords['time'].min()\n",
    "tmax = proton_charge.coords['time'].max()\n",
    "delta = sc.to_unit(tmax-tmin, 'us')\n",
    "delta.unit = ''\n",
    "scale = sc.to_unit(tmax - da.bins.coords['pulse_time'], 'us')\n",
    "da.bins.coords['tof'] += 500*scale/delta\n",
    "\n",
    "# Fake prompt pulse\n",
    "prompt_start = 4000.0 * sc.Unit('us')\n",
    "prompt_stop = 5000.0 * sc.Unit('us')\n",
    "tof = da.bins.coords['tof']\n",
    "da.bins.data *= sc.where((prompt_start <= tof) & (tof < prompt_stop), 1.0+3.0*sc.exp(-(tof-prompt_start)/sc.scalar(200.0, unit='us')), sc.scalar(1.0))\n",
    "\n",
    "da.to_hdf5(filename=filename)"
   ]
  }
 ],
 "metadata": {
  "kernelspec": {
   "display_name": "Python 3 (ipykernel)",
   "language": "python",
   "name": "python3"
  },
  "language_info": {
   "codemirror_mode": {
    "name": "ipython",
    "version": 3
   },
   "file_extension": ".py",
   "mimetype": "text/x-python",
   "name": "python",
   "nbconvert_exporter": "python",
   "pygments_lexer": "ipython3",
   "version": "3.8.10"
  }
 },
 "nbformat": 4,
 "nbformat_minor": 5
}
